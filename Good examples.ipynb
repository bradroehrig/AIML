{
 "cells": [
  {
   "cell_type": "code",
   "execution_count": 10,
   "id": "fea47f2a",
   "metadata": {},
   "outputs": [
    {
     "name": "stdout",
     "output_type": "stream",
     "text": [
      "C:\\Users\\bradr\\Dropbox\\Software Development\\AIML\n"
     ]
    }
   ],
   "source": [
    "# Checking working directory\n",
    "import os\n",
    "cwd = os.getcwd()\n",
    "print (cwd)"
   ]
  },
  {
   "cell_type": "code",
   "execution_count": 11,
   "id": "1bf19d43",
   "metadata": {},
   "outputs": [
    {
     "name": "stdout",
     "output_type": "stream",
     "text": [
      "My name is Zen Coder and I am 27 years old.\n"
     ]
    }
   ],
   "source": [
    "#Literal String Interpolation\n",
    "first_name = \"Zen\"\n",
    "last_name = \"Coder\"\n",
    "age = 27\n",
    "print(f\"My name is {first_name} {last_name} and I am {age} years old.\")"
   ]
  },
  {
   "cell_type": "code",
   "execution_count": 3,
   "id": "fd2702c9",
   "metadata": {},
   "outputs": [
    {
     "name": "stdout",
     "output_type": "stream",
     "text": [
      "My name is Zen Coder and I am 27 years old.\n",
      "My name is 27 Zen and I am Coder years old.\n"
     ]
    }
   ],
   "source": [
    "first_name = \"Zen\"\n",
    "last_name = \"Coder\"\n",
    "age = 27\n",
    "print(\"My name is {} {} and I am {} years old.\".format(first_name, last_name, age))\n",
    "# output: My name is Zen Coder and I am 27 years old.\n",
    "print(\"My name is {} {} and I am {} years old.\".format(age, first_name, last_name))\n",
    "# output: My name is 27 Zen and I am Coder years old."
   ]
  },
  {
   "cell_type": "code",
   "execution_count": 4,
   "id": "ccf1b442",
   "metadata": {},
   "outputs": [
    {
     "name": "stdout",
     "output_type": "stream",
     "text": [
      "Hello world I love Python 3\n",
      "My name is Zen and I'm 27\n"
     ]
    }
   ],
   "source": [
    "hw = \"Hello %s\" % \"world\" \t# with literal values\n",
    "py = \"I love Python %d\" % 3 \n",
    "print(hw, py)\n",
    "# output: Hello world I love Python 3\n",
    "name = \"Zen\"\n",
    "age = 27\n",
    "print(\"My name is %s and I'm %d\" % (name, age))\t\t# or with variables\n",
    "# output: My name is Zen and I'm 27"
   ]
  },
  {
   "cell_type": "code",
   "execution_count": 5,
   "id": "a9cccf7a",
   "metadata": {},
   "outputs": [
    {
     "name": "stdout",
     "output_type": "stream",
     "text": [
      "Hello World\n"
     ]
    },
    {
     "data": {
      "text/plain": [
       "'Hello World'"
      ]
     },
     "execution_count": 5,
     "metadata": {},
     "output_type": "execute_result"
    }
   ],
   "source": [
    "x = \"hello world\"\n",
    "print(x.title())\n",
    "# output:\n",
    "\"Hello World\""
   ]
  },
  {
   "cell_type": "code",
   "execution_count": 6,
   "id": "f2bdfbf4",
   "metadata": {},
   "outputs": [
    {
     "name": "stdout",
     "output_type": "stream",
     "text": [
      "What is your name ?Brad\n",
      "My name is Brad\n",
      "My name is Brad\n",
      "There is 1 name\n"
     ]
    }
   ],
   "source": [
    "name = input(\"What is your name ?\")\n",
    "name = name.capitalize()\n",
    "print (\"My name is\", name)\n",
    "print (\"My name is \" + name)\n",
    "print (\"There is \" + str(name.count(name)) + \" name\")"
   ]
  },
  {
   "cell_type": "code",
   "execution_count": 7,
   "id": "f9055191",
   "metadata": {},
   "outputs": [
    {
     "name": "stdout",
     "output_type": "stream",
     "text": [
      "What is your name ?\n",
      " suck!\n"
     ]
    }
   ],
   "source": [
    "name = input(\"What is your name ?\")\n",
    "name = name.capitalize()\n",
    "\n",
    "if name == \"Bears\":\n",
    "    print(\"You Rock \" + name)\n",
    "elif name == \"Packers\":\n",
    "    print(name + \" are the best\")\n",
    "else:\n",
    "    print (name + \" suck!\")"
   ]
  },
  {
   "cell_type": "code",
   "execution_count": 9,
   "id": "9533ed6b",
   "metadata": {},
   "outputs": [
    {
     "name": "stdout",
     "output_type": "stream",
     "text": [
      "What is your price? 200\n",
      "Don't buy\n"
     ]
    }
   ],
   "source": [
    "price = int(input(\"What is your price? \"))\n",
    "# price = 600\n",
    "if price >= 700:\n",
    "    print(\"Buy\")\n",
    "else:\n",
    "    print(\"Don't buy\")"
   ]
  },
  {
   "cell_type": "code",
   "execution_count": 9,
   "id": "e451124d",
   "metadata": {},
   "outputs": [
    {
     "name": "stdout",
     "output_type": "stream",
     "text": [
      "['apple', 'banana', 'orange', 'strawberry', 'lettuce', 'cucumber', 'carrots']\n",
      "['lettuce', 'cucumber', 'carrots', 'lettuce', 'cucumber', 'carrots', 'lettuce', 'cucumber', 'carrots']\n"
     ]
    }
   ],
   "source": [
    "fruits = ['apple', 'banana', 'orange', 'strawberry']\n",
    "vegetables = ['lettuce', 'cucumber', 'carrots']\n",
    "fruits_and_vegetables = fruits + vegetables\n",
    "print(fruits_and_vegetables)\n",
    "salad = 3 * vegetables\n",
    "print(salad)"
   ]
  },
  {
   "cell_type": "code",
   "execution_count": 10,
   "id": "70b62d0a",
   "metadata": {},
   "outputs": [
    {
     "name": "stdout",
     "output_type": "stream",
     "text": [
      "['list', 'in', 'a', 'list']\n"
     ]
    }
   ],
   "source": [
    "ninjas = ['Rozen', 'KB', 'Oliver']\n",
    "my_list = ['4', ['list', 'in', 'a', 'list'], 987]\n",
    "empty_list = []\n",
    "print(my_list[1])"
   ]
  },
  {
   "cell_type": "code",
   "execution_count": 11,
   "id": "ab72c185",
   "metadata": {},
   "outputs": [
    {
     "name": "stdout",
     "output_type": "stream",
     "text": [
      "[1, 2, 3, 4, 5, 99]\n"
     ]
    }
   ],
   "source": [
    "x = [1,2,3,4,5]\n",
    "x.append(99)\n",
    "print(x)\n",
    "#the output would be [1,2,3,4,5,99]"
   ]
  },
  {
   "cell_type": "code",
   "execution_count": 12,
   "id": "96ae13ca",
   "metadata": {},
   "outputs": [
    {
     "name": "stdout",
     "output_type": "stream",
     "text": [
      "[1, 2, 3, 4, 5, 99]\n"
     ]
    }
   ],
   "source": [
    "print(x)"
   ]
  },
  {
   "cell_type": "code",
   "execution_count": 13,
   "id": "3dedce2a",
   "metadata": {},
   "outputs": [
    {
     "name": "stdout",
     "output_type": "stream",
     "text": [
      "[1, 2, 3]\n"
     ]
    }
   ],
   "source": [
    "x.remove(99)\n",
    "x.remove(5)\n",
    "x.remove(4)\n",
    "print(x)"
   ]
  },
  {
   "cell_type": "code",
   "execution_count": 14,
   "id": "d8aa5373",
   "metadata": {},
   "outputs": [
    {
     "name": "stdout",
     "output_type": "stream",
     "text": [
      "[99, 4, 2, 5, -3]\n",
      "[4, 2, 5, -3]\n",
      "[99, 4, 2, 5]\n",
      "[2, 5]\n"
     ]
    }
   ],
   "source": [
    "x = [99,4,2,5,-3]\n",
    "print(x[:])\n",
    "#the output would be [99,4,2,5,-3]\n",
    "print(x[1:])\n",
    "#the output would be [4,2,5,-3];\n",
    "print(x[:4])\n",
    "#the output would be [99,4,2,5]\n",
    "print(x[2:4])\n",
    "#the output would be [2,5];"
   ]
  },
  {
   "cell_type": "code",
   "execution_count": 15,
   "id": "75589411",
   "metadata": {},
   "outputs": [
    {
     "name": "stdout",
     "output_type": "stream",
     "text": [
      "3\n"
     ]
    },
    {
     "data": {
      "text/plain": [
       "2"
      ]
     },
     "execution_count": 15,
     "metadata": {},
     "output_type": "execute_result"
    }
   ],
   "source": [
    "my_list = [1, 'Zen', 'hi']\n",
    "print(len(my_list))\n",
    "my_list.index('hi')"
   ]
  },
  {
   "cell_type": "markdown",
   "id": "06649109",
   "metadata": {},
   "source": [
    "## Fizz Buzz"
   ]
  },
  {
   "cell_type": "code",
   "execution_count": 16,
   "id": "d59edc60",
   "metadata": {},
   "outputs": [
    {
     "name": "stdout",
     "output_type": "stream",
     "text": [
      "1\n",
      "2\n",
      "Fizz\n",
      "4\n",
      "Buzz\n",
      "Fizz\n",
      "7\n",
      "8\n",
      "Fizz\n",
      "Buzz\n",
      "11\n",
      "Fizz\n",
      "13\n",
      "14\n",
      "FizzBuzz\n"
     ]
    }
   ],
   "source": [
    "for i in range(1, 16):\n",
    "    if i % 3 == 0 and i % 5 == 0:\n",
    "        print ('FizzBuzz')\n",
    "    elif i % 3 == 0:\n",
    "        print ('Fizz')\n",
    "    elif i % 5 == 0:\n",
    "        print ('Buzz')\n",
    "    else:\n",
    "        print (str(i))"
   ]
  },
  {
   "cell_type": "code",
   "execution_count": 17,
   "id": "7f621d7c",
   "metadata": {},
   "outputs": [
    {
     "name": "stdout",
     "output_type": "stream",
     "text": [
      "Hello World\n",
      "Hello Brad!\n",
      "Hello Brad!\n",
      "Hello 47\n",
      "Hello 47\n",
      "I love to eat pizza and sushi.\n",
      "I love to eat pizza and sushi.\n"
     ]
    }
   ],
   "source": [
    "# 1. TASK: print \"Hello World\"\n",
    "print(\"Hello World\")\n",
    "# 2. print \"Hello Noelle!\" with the name in a variable\n",
    "name = \"Brad\"\n",
    "print(\"Hello\", name, end='')\t# with a comm\n",
    "print(\"!\")\n",
    "print(\"Hello \" + name + \"!\")\t# with a +\n",
    "# 3. print \"Hello 42!\" with the number in a variable\n",
    "name = 47\n",
    "print(\"Hello\", str(name))\t# with a comma\n",
    "print(\"Hello \" + str(name))\t# with a +\t-- this one should give us an error!\n",
    "# 4. print \"I love to eat sushi and pizza.\" with the foods in variables\n",
    "fave_food1 = \"pizza\"\n",
    "fave_food2 = \"sushi\"\n",
    "print(\"I love to eat {} and {}.\".format(fave_food1, fave_food2)) # with .format()\n",
    "print(f\"I love to eat {fave_food1} and {fave_food2}.\") # with an f string"
   ]
  },
  {
   "cell_type": "code",
   "execution_count": 18,
   "id": "d9ef3563",
   "metadata": {},
   "outputs": [
    {
     "name": "stdout",
     "output_type": "stream",
     "text": [
      "{'questions': [{'id': 1, 'content': 'Why is there a light in the fridge and not in the freezer?'}, {'id': 2, 'content': \"Why don't sheep shrink when it rains?\"}, {'id': 3, 'content': 'Why are they called apartments when they are all stuck together?'}, {'id': 4, 'content': 'Why do cars drive on the parkway and park on the driveway?'}]}\n",
      "{'questions': [{'id': 1, 'content': 'Why is there a light in the fridge and not in the freezer?'}, {'id': 2, 'content': \"Why don't sheep shrink when it rains?\"}, {'id': 3, 'content': 'Why are they called apartments when they are all stuck together?'}, {'id': 4, 'content': 'Why do cars drive on the parkway and park on the driveway?'}]}\n"
     ]
    }
   ],
   "source": [
    "context = {\n",
    "    'questions': [\n",
    "        { 'id': 1, 'content': 'Why is there a light in the fridge and not in the freezer?'},\n",
    "        { 'id': 2, 'content': 'Why don\\'t sheep shrink when it rains?'},\n",
    "        { 'id': 3, 'content': 'Why are they called apartments when they are all stuck together?'},\n",
    "        { 'id': 4, 'content': 'Why do cars drive on the parkway and park on the driveway?'}\n",
    "    ]\n",
    "}\n",
    "print(context)\n",
    "print(context)"
   ]
  },
  {
   "cell_type": "code",
   "execution_count": 19,
   "id": "714119a9",
   "metadata": {},
   "outputs": [
    {
     "name": "stdout",
     "output_type": "stream",
     "text": [
      "smaller than 50\n",
      "bigger than 10\n"
     ]
    }
   ],
   "source": [
    "x = 12\n",
    "if x > 50:\n",
    "    print(\"bigger than 50\")\n",
    "else:\n",
    "\tprint(\"smaller than 50\")\n",
    "# because x is not greater than 50, the second print statement is the only one that will execute\n",
    "    \n",
    "x = 55\n",
    "if x > 10:\n",
    "    \tprint(\"bigger than 10\")\n",
    "elif x > 50:\n",
    "    \tprint(\"bigger than 50\")\n",
    "else:\n",
    "\tprint(\"smaller than 10\")\n",
    "# even though x is greater than 10 and 50, the first true statement is the only one that will execute, so we will only see 'bigger than 10'\n",
    "    \n",
    "if x < 10:\n",
    "\tprint(\"smaller than 10\")\n",
    "# nothing happens, because the statement is false   "
   ]
  },
  {
   "cell_type": "code",
   "execution_count": 20,
   "id": "a7c5c906",
   "metadata": {},
   "outputs": [
    {
     "name": "stdout",
     "output_type": "stream",
     "text": [
      "0\n",
      "1\n",
      "2\n",
      "3\n",
      "4\n",
      "5\n",
      "6\n"
     ]
    }
   ],
   "source": [
    "for i in range(7):\n",
    "    print(i)"
   ]
  },
  {
   "cell_type": "code",
   "execution_count": 21,
   "id": "1d39f13d",
   "metadata": {},
   "outputs": [
    {
     "name": "stdout",
     "output_type": "stream",
     "text": [
      "5\n",
      "6\n",
      "7\n",
      "8\n",
      "9\n"
     ]
    }
   ],
   "source": [
    "for i in range(5,10):\n",
    "    print(i)"
   ]
  },
  {
   "cell_type": "code",
   "execution_count": 22,
   "id": "6cd9e30f",
   "metadata": {},
   "outputs": [
    {
     "name": "stdout",
     "output_type": "stream",
     "text": [
      "5\n",
      "7\n",
      "9\n"
     ]
    }
   ],
   "source": [
    "for i in range(5,10, 2):\n",
    "    print(i)"
   ]
  },
  {
   "cell_type": "code",
   "execution_count": 23,
   "id": "d8f566b6",
   "metadata": {},
   "outputs": [
    {
     "name": "stdout",
     "output_type": "stream",
     "text": [
      "0\n",
      "2\n",
      "4\n",
      "6\n",
      "8\n",
      "5\n",
      "2\n"
     ]
    }
   ],
   "source": [
    "for x in range(0, 10, 2):\n",
    "    print(x)\n",
    "# output: 0, 2, 4, 6, 8\n",
    "for x in range(5, 1, -3):\n",
    "    print(x)\n",
    "# output: 5, 2"
   ]
  },
  {
   "cell_type": "code",
   "execution_count": 24,
   "id": "5de293a7",
   "metadata": {},
   "outputs": [
    {
     "name": "stdout",
     "output_type": "stream",
     "text": [
      "H\n",
      "e\n",
      "l\n",
      "l\n",
      "o\n"
     ]
    }
   ],
   "source": [
    "for x in 'Hello':\n",
    "    print(x)\n",
    "# output: 'H', 'e', 'l', 'l', 'o'"
   ]
  },
  {
   "cell_type": "code",
   "execution_count": 25,
   "id": "17b09578",
   "metadata": {},
   "outputs": [
    {
     "name": "stdout",
     "output_type": "stream",
     "text": [
      "0 abc\n",
      "1 123\n",
      "2 xyz\n",
      "abc\n",
      "123\n",
      "xyz\n"
     ]
    }
   ],
   "source": [
    "my_list = [\"abc\", 123, \"xyz\"]\n",
    "for i in range(0, len(my_list)):\n",
    "    print(i, my_list[i])\n",
    "# output: 0 abc, 1 123, 2 xyz\n",
    "    \n",
    "# OR \n",
    "    \n",
    "for v in my_list:\n",
    "    print(v)\n",
    "# output: abc, 123, xyz"
   ]
  },
  {
   "cell_type": "code",
   "execution_count": 26,
   "id": "f755c9cb",
   "metadata": {},
   "outputs": [
    {
     "name": "stdout",
     "output_type": "stream",
     "text": [
      "name\n",
      "language\n"
     ]
    }
   ],
   "source": [
    "my_dict = { \"name\": \"Brad\", \"language\": \"Python\" }\n",
    "for k in my_dict:\n",
    "    print(k)\n",
    "# output: name, language"
   ]
  },
  {
   "cell_type": "code",
   "execution_count": 27,
   "id": "7acd3a1f",
   "metadata": {},
   "outputs": [
    {
     "name": "stdout",
     "output_type": "stream",
     "text": [
      "BradNoelle\n",
      "Python\n"
     ]
    }
   ],
   "source": [
    "my_dict = { \"name\": \"BradNoelle\", \"language\": \"Python\" }\n",
    "for k in my_dict:\n",
    "    print(my_dict[k])\n",
    "# output: Noelle, Python"
   ]
  },
  {
   "cell_type": "code",
   "execution_count": 28,
   "id": "6e70f658",
   "metadata": {},
   "outputs": [
    {
     "name": "stdout",
     "output_type": "stream",
     "text": [
      "Washington\n",
      "California\n",
      "Idaho\n",
      "Illinois\n",
      "Texas\n",
      "Oklahoma\n",
      "Virginia\n",
      "Olympia\n",
      "Sacramento\n",
      "Boise\n",
      "Springfield\n",
      "Austin\n",
      "Oklahoma City\n",
      "Richmond\n",
      "Washington  =  Olympia\n",
      "California  =  Sacramento\n",
      "Idaho  =  Boise\n",
      "Illinois  =  Springfield\n",
      "Texas  =  Austin\n",
      "Oklahoma  =  Oklahoma City\n",
      "Virginia  =  Richmond\n"
     ]
    }
   ],
   "source": [
    "capitals = {\"Washington\":\"Olympia\",\"California\":\"Sacramento\",\"Idaho\":\"Boise\",\"Illinois\":\"Springfield\",\"Texas\":\"Austin\",\"Oklahoma\":\"Oklahoma City\",\"Virginia\":\"Richmond\"}\n",
    "# another way to iterate through the keys\n",
    "for key in capitals.keys():\n",
    "     print(key)\n",
    "# output: Washington, California, Idaho, Illinois, Texas, Oklahoma, Virginia\n",
    "#to iterate through the values\n",
    "for val in capitals.values():\n",
    "     print(val)\n",
    "# output: Olympia, Sacramento, Boise, Springfield, Austin, Oklahoma City, Richmond\n",
    "#to iterate through both keys and values\n",
    "for key, val in capitals.items():\n",
    "     print(key, \" = \", val)\n",
    "# output: Washington = Olympia, California = Sacramento, Idaho = Boise, etc"
   ]
  },
  {
   "cell_type": "code",
   "execution_count": 29,
   "id": "1ddb09d3",
   "metadata": {},
   "outputs": [
    {
     "name": "stdout",
     "output_type": "stream",
     "text": [
      "looping = 0\n",
      "looping = 1\n",
      "looping = 2\n",
      "looping = 3\n",
      "looping = 4\n"
     ]
    }
   ],
   "source": [
    "for count in range(0,5):\n",
    "    print(\"looping =\", count)"
   ]
  },
  {
   "cell_type": "code",
   "execution_count": 30,
   "id": "a4c16f6e",
   "metadata": {},
   "outputs": [
    {
     "name": "stdout",
     "output_type": "stream",
     "text": [
      "looping -  0\n",
      "looping -  1\n",
      "looping -  2\n",
      "looping -  3\n",
      "looping -  4\n",
      "looping -  5\n"
     ]
    }
   ],
   "source": [
    "count = 0\n",
    "while count <= 5:\n",
    "    print(\"looping - \", count)\n",
    "    count += 1"
   ]
  },
  {
   "cell_type": "code",
   "execution_count": 31,
   "id": "df49af88",
   "metadata": {},
   "outputs": [
    {
     "name": "stdout",
     "output_type": "stream",
     "text": [
      "3\n",
      "2\n",
      "1\n",
      "Final else statement\n"
     ]
    }
   ],
   "source": [
    "y = 3\n",
    "while y > 0:\n",
    "    print(y)\n",
    "    y = y - 1\n",
    "else:\n",
    "    print(\"Final else statement\")"
   ]
  },
  {
   "cell_type": "code",
   "execution_count": 32,
   "id": "fdcb180d",
   "metadata": {},
   "outputs": [
    {
     "name": "stdout",
     "output_type": "stream",
     "text": [
      "s\n",
      "t\n",
      "r\n"
     ]
    }
   ],
   "source": [
    "for val in \"string\":\n",
    "    if val == \"i\":\n",
    "        break\n",
    "    print(val)\n",
    "# output: s, t, r"
   ]
  },
  {
   "cell_type": "code",
   "execution_count": 33,
   "id": "e43fc6c9",
   "metadata": {},
   "outputs": [
    {
     "name": "stdout",
     "output_type": "stream",
     "text": [
      "s\n",
      "t\n",
      "r\n",
      "n\n",
      "g\n"
     ]
    }
   ],
   "source": [
    "for val in \"string\":\n",
    "    if val == \"i\":\n",
    "        continue\n",
    "    print(val)\n",
    "# output: s, t, r, n, g\n",
    "# notice, no i in the output, but the loop continued after the i"
   ]
  },
  {
   "cell_type": "code",
   "execution_count": 34,
   "id": "0888d790",
   "metadata": {},
   "outputs": [
    {
     "name": "stdout",
     "output_type": "stream",
     "text": [
      "3\n",
      "2\n",
      "1\n"
     ]
    }
   ],
   "source": [
    "y = 3\n",
    "while y > 0:\n",
    "    print(y)\n",
    "    y = y - 1\n",
    "    if y == 0:\n",
    "        break\n",
    "else:\t\t# only executes on a clean exit from the while loop (i.e. not a break)\n",
    "   print(\"Final else statement\")\n",
    "# output: 3, 2, 1"
   ]
  },
  {
   "cell_type": "markdown",
   "id": "fca53990",
   "metadata": {},
   "source": [
    "## Basic Loop project"
   ]
  },
  {
   "cell_type": "code",
   "execution_count": 35,
   "id": "7244bfc2",
   "metadata": {},
   "outputs": [
    {
     "name": "stdout",
     "output_type": "stream",
     "text": [
      "0\n",
      "1\n",
      "2\n",
      "3\n",
      "4\n",
      "5\n",
      "6\n",
      "7\n",
      "8\n",
      "9\n",
      "10\n",
      "11\n",
      "12\n",
      "13\n",
      "14\n",
      "15\n",
      "16\n",
      "17\n",
      "18\n",
      "19\n",
      "20\n",
      "21\n",
      "22\n",
      "23\n",
      "24\n",
      "25\n",
      "26\n",
      "27\n",
      "28\n",
      "29\n",
      "30\n",
      "31\n",
      "32\n",
      "33\n",
      "34\n",
      "35\n",
      "36\n",
      "37\n",
      "38\n",
      "39\n",
      "40\n",
      "41\n",
      "42\n",
      "43\n",
      "44\n",
      "45\n",
      "46\n",
      "47\n",
      "48\n",
      "49\n",
      "50\n",
      "51\n",
      "52\n",
      "53\n",
      "54\n",
      "55\n",
      "56\n",
      "57\n",
      "58\n",
      "59\n",
      "60\n",
      "61\n",
      "62\n",
      "63\n",
      "64\n",
      "65\n",
      "66\n",
      "67\n",
      "68\n",
      "69\n",
      "70\n",
      "71\n",
      "72\n",
      "73\n",
      "74\n",
      "75\n",
      "76\n",
      "77\n",
      "78\n",
      "79\n",
      "80\n",
      "81\n",
      "82\n",
      "83\n",
      "84\n",
      "85\n",
      "86\n",
      "87\n",
      "88\n",
      "89\n",
      "90\n",
      "91\n",
      "92\n",
      "93\n",
      "94\n",
      "95\n",
      "96\n",
      "97\n",
      "98\n",
      "99\n",
      "100\n",
      "101\n",
      "102\n",
      "103\n",
      "104\n",
      "105\n",
      "106\n",
      "107\n",
      "108\n",
      "109\n",
      "110\n",
      "111\n",
      "112\n",
      "113\n",
      "114\n",
      "115\n",
      "116\n",
      "117\n",
      "118\n",
      "119\n",
      "120\n",
      "121\n",
      "122\n",
      "123\n",
      "124\n",
      "125\n",
      "126\n",
      "127\n",
      "128\n",
      "129\n",
      "130\n",
      "131\n",
      "132\n",
      "133\n",
      "134\n",
      "135\n",
      "136\n",
      "137\n",
      "138\n",
      "139\n",
      "140\n",
      "141\n",
      "142\n",
      "143\n",
      "144\n",
      "145\n",
      "146\n",
      "147\n",
      "148\n",
      "149\n",
      "150\n",
      "5\n",
      "10\n",
      "15\n",
      "20\n",
      "25\n",
      "30\n",
      "35\n",
      "40\n",
      "45\n",
      "50\n",
      "55\n",
      "60\n",
      "65\n",
      "70\n",
      "75\n",
      "80\n",
      "85\n",
      "90\n",
      "95\n",
      "100\n",
      "105\n",
      "110\n",
      "115\n",
      "120\n",
      "125\n",
      "130\n",
      "135\n",
      "140\n",
      "145\n",
      "150\n",
      "155\n",
      "160\n",
      "165\n",
      "170\n",
      "175\n",
      "180\n",
      "185\n",
      "190\n",
      "195\n",
      "200\n",
      "205\n",
      "210\n",
      "215\n",
      "220\n",
      "225\n",
      "230\n",
      "235\n",
      "240\n",
      "245\n",
      "250\n",
      "255\n",
      "260\n",
      "265\n",
      "270\n",
      "275\n",
      "280\n",
      "285\n",
      "290\n",
      "295\n",
      "300\n",
      "305\n",
      "310\n",
      "315\n",
      "320\n",
      "325\n",
      "330\n",
      "335\n",
      "340\n",
      "345\n",
      "350\n",
      "355\n",
      "360\n",
      "365\n",
      "370\n",
      "375\n",
      "380\n",
      "385\n",
      "390\n",
      "395\n",
      "400\n",
      "405\n",
      "410\n",
      "415\n",
      "420\n",
      "425\n",
      "430\n",
      "435\n",
      "440\n",
      "445\n",
      "450\n",
      "455\n",
      "460\n",
      "465\n",
      "470\n",
      "475\n",
      "480\n",
      "485\n",
      "490\n",
      "495\n",
      "500\n",
      "505\n",
      "510\n",
      "515\n",
      "520\n",
      "525\n",
      "530\n",
      "535\n",
      "540\n",
      "545\n",
      "550\n",
      "555\n",
      "560\n",
      "565\n",
      "570\n",
      "575\n",
      "580\n",
      "585\n",
      "590\n",
      "595\n",
      "600\n",
      "605\n",
      "610\n",
      "615\n",
      "620\n",
      "625\n",
      "630\n",
      "635\n",
      "640\n",
      "645\n",
      "650\n",
      "655\n",
      "660\n",
      "665\n",
      "670\n",
      "675\n",
      "680\n",
      "685\n",
      "690\n",
      "695\n",
      "700\n",
      "705\n",
      "710\n",
      "715\n",
      "720\n",
      "725\n",
      "730\n",
      "735\n",
      "740\n",
      "745\n",
      "750\n",
      "755\n",
      "760\n",
      "765\n",
      "770\n",
      "775\n",
      "780\n",
      "785\n",
      "790\n",
      "795\n",
      "800\n",
      "805\n",
      "810\n",
      "815\n",
      "820\n",
      "825\n",
      "830\n",
      "835\n",
      "840\n",
      "845\n",
      "850\n",
      "855\n",
      "860\n",
      "865\n",
      "870\n",
      "875\n",
      "880\n",
      "885\n",
      "890\n",
      "895\n",
      "900\n",
      "905\n",
      "910\n",
      "915\n",
      "920\n",
      "925\n",
      "930\n",
      "935\n",
      "940\n",
      "945\n",
      "950\n",
      "955\n",
      "960\n",
      "965\n",
      "970\n",
      "975\n",
      "980\n",
      "985\n",
      "990\n",
      "995\n",
      "1000\n",
      "1\n",
      "2\n",
      "3\n",
      "4\n",
      "Coding\n",
      "6\n",
      "7\n",
      "8\n",
      "9\n",
      "Coding Dojo\n",
      "11\n",
      "12\n",
      "13\n",
      "14\n",
      "Coding\n",
      "16\n",
      "17\n",
      "18\n",
      "19\n",
      "Coding Dojo\n",
      "21\n",
      "22\n",
      "23\n",
      "24\n",
      "Coding\n",
      "26\n",
      "27\n",
      "28\n",
      "29\n",
      "Coding Dojo\n",
      "31\n",
      "32\n",
      "33\n",
      "34\n",
      "Coding\n",
      "36\n",
      "37\n",
      "38\n",
      "39\n",
      "Coding Dojo\n",
      "41\n",
      "42\n",
      "43\n",
      "44\n",
      "Coding\n",
      "46\n",
      "47\n",
      "48\n",
      "49\n",
      "Coding Dojo\n",
      "51\n",
      "52\n",
      "53\n",
      "54\n",
      "Coding\n",
      "56\n",
      "57\n",
      "58\n",
      "59\n",
      "Coding Dojo\n",
      "61\n",
      "62\n",
      "63\n",
      "64\n",
      "Coding\n",
      "66\n",
      "67\n",
      "68\n",
      "69\n",
      "Coding Dojo\n",
      "71\n",
      "72\n",
      "73\n",
      "74\n",
      "Coding\n",
      "76\n",
      "77\n",
      "78\n",
      "79\n",
      "Coding Dojo\n",
      "81\n",
      "82\n",
      "83\n",
      "84\n",
      "Coding\n",
      "86\n",
      "87\n",
      "88\n",
      "89\n",
      "Coding Dojo\n",
      "91\n",
      "92\n",
      "93\n",
      "94\n",
      "Coding\n",
      "96\n",
      "97\n",
      "98\n",
      "99\n",
      "Coding Dojo\n",
      "62500000000\n",
      "2018\n",
      "2014\n",
      "2010\n",
      "2006\n",
      "2002\n",
      "1998\n",
      "1994\n",
      "1990\n",
      "1986\n",
      "1982\n",
      "1978\n",
      "1974\n",
      "1970\n",
      "1966\n",
      "1962\n",
      "1958\n",
      "1954\n",
      "1950\n",
      "1946\n",
      "1942\n",
      "1938\n",
      "1934\n",
      "1930\n",
      "1926\n",
      "1922\n",
      "1918\n",
      "1914\n",
      "1910\n",
      "1906\n",
      "1902\n",
      "1898\n",
      "1894\n",
      "1890\n",
      "1886\n",
      "1882\n",
      "1878\n",
      "1874\n",
      "1870\n",
      "1866\n",
      "1862\n",
      "1858\n",
      "1854\n",
      "1850\n",
      "1846\n",
      "1842\n",
      "1838\n",
      "1834\n",
      "1830\n",
      "1826\n",
      "1822\n",
      "1818\n",
      "1814\n",
      "1810\n",
      "1806\n",
      "1802\n",
      "1798\n",
      "1794\n",
      "1790\n",
      "1786\n",
      "1782\n",
      "1778\n",
      "1774\n",
      "1770\n",
      "1766\n",
      "1762\n",
      "1758\n",
      "1754\n",
      "1750\n",
      "1746\n",
      "1742\n",
      "1738\n",
      "1734\n",
      "1730\n",
      "1726\n",
      "1722\n",
      "1718\n",
      "1714\n",
      "1710\n",
      "1706\n",
      "1702\n",
      "1698\n",
      "1694\n",
      "1690\n",
      "1686\n",
      "1682\n",
      "1678\n",
      "1674\n",
      "1670\n",
      "1666\n",
      "1662\n",
      "1658\n",
      "1654\n",
      "1650\n",
      "1646\n",
      "1642\n",
      "1638\n",
      "1634\n",
      "1630\n",
      "1626\n",
      "1622\n",
      "1618\n",
      "1614\n",
      "1610\n",
      "1606\n",
      "1602\n",
      "1598\n",
      "1594\n",
      "1590\n",
      "1586\n",
      "1582\n",
      "1578\n",
      "1574\n",
      "1570\n",
      "1566\n",
      "1562\n",
      "1558\n",
      "1554\n",
      "1550\n",
      "1546\n",
      "1542\n",
      "1538\n",
      "1534\n",
      "1530\n",
      "1526\n",
      "1522\n",
      "1518\n",
      "1514\n",
      "1510\n",
      "1506\n",
      "1502\n",
      "1498\n",
      "1494\n",
      "1490\n",
      "1486\n",
      "1482\n",
      "1478\n",
      "1474\n",
      "1470\n",
      "1466\n",
      "1462\n",
      "1458\n",
      "1454\n",
      "1450\n",
      "1446\n",
      "1442\n",
      "1438\n",
      "1434\n",
      "1430\n",
      "1426\n",
      "1422\n",
      "1418\n",
      "1414\n",
      "1410\n",
      "1406\n",
      "1402\n",
      "1398\n",
      "1394\n",
      "1390\n",
      "1386\n",
      "1382\n",
      "1378\n",
      "1374\n",
      "1370\n",
      "1366\n",
      "1362\n",
      "1358\n",
      "1354\n",
      "1350\n",
      "1346\n",
      "1342\n",
      "1338\n",
      "1334\n",
      "1330\n",
      "1326\n",
      "1322\n",
      "1318\n",
      "1314\n",
      "1310\n",
      "1306\n",
      "1302\n",
      "1298\n",
      "1294\n",
      "1290\n",
      "1286\n",
      "1282\n",
      "1278\n",
      "1274\n",
      "1270\n",
      "1266\n",
      "1262\n",
      "1258\n",
      "1254\n",
      "1250\n",
      "1246\n",
      "1242\n",
      "1238\n",
      "1234\n",
      "1230\n",
      "1226\n",
      "1222\n",
      "1218\n",
      "1214\n",
      "1210\n",
      "1206\n",
      "1202\n",
      "1198\n",
      "1194\n",
      "1190\n",
      "1186\n",
      "1182\n",
      "1178\n",
      "1174\n",
      "1170\n",
      "1166\n",
      "1162\n",
      "1158\n",
      "1154\n",
      "1150\n",
      "1146\n",
      "1142\n",
      "1138\n",
      "1134\n",
      "1130\n",
      "1126\n",
      "1122\n",
      "1118\n",
      "1114\n",
      "1110\n",
      "1106\n",
      "1102\n",
      "1098\n",
      "1094\n",
      "1090\n",
      "1086\n",
      "1082\n",
      "1078\n",
      "1074\n",
      "1070\n",
      "1066\n",
      "1062\n",
      "1058\n",
      "1054\n",
      "1050\n",
      "1046\n",
      "1042\n",
      "1038\n",
      "1034\n",
      "1030\n",
      "1026\n",
      "1022\n",
      "1018\n",
      "1014\n",
      "1010\n",
      "1006\n",
      "1002\n",
      "998\n",
      "994\n",
      "990\n",
      "986\n",
      "982\n",
      "978\n",
      "974\n",
      "970\n",
      "966\n",
      "962\n",
      "958\n",
      "954\n",
      "950\n",
      "946\n",
      "942\n",
      "938\n",
      "934\n",
      "930\n",
      "926\n",
      "922\n",
      "918\n",
      "914\n",
      "910\n",
      "906\n",
      "902\n",
      "898\n",
      "894\n",
      "890\n",
      "886\n",
      "882\n",
      "878\n",
      "874\n",
      "870\n",
      "866\n",
      "862\n",
      "858\n",
      "854\n",
      "850\n",
      "846\n",
      "842\n",
      "838\n",
      "834\n",
      "830\n",
      "826\n",
      "822\n",
      "818\n",
      "814\n",
      "810\n",
      "806\n",
      "802\n",
      "798\n",
      "794\n",
      "790\n",
      "786\n",
      "782\n",
      "778\n",
      "774\n",
      "770\n",
      "766\n",
      "762\n",
      "758\n",
      "754\n",
      "750\n",
      "746\n",
      "742\n",
      "738\n",
      "734\n",
      "730\n",
      "726\n",
      "722\n",
      "718\n",
      "714\n",
      "710\n",
      "706\n",
      "702\n",
      "698\n",
      "694\n",
      "690\n",
      "686\n",
      "682\n",
      "678\n",
      "674\n",
      "670\n",
      "666\n",
      "662\n",
      "658\n",
      "654\n",
      "650\n",
      "646\n",
      "642\n",
      "638\n",
      "634\n",
      "630\n",
      "626\n",
      "622\n",
      "618\n",
      "614\n",
      "610\n",
      "606\n",
      "602\n",
      "598\n",
      "594\n",
      "590\n",
      "586\n",
      "582\n",
      "578\n",
      "574\n",
      "570\n",
      "566\n",
      "562\n",
      "558\n",
      "554\n",
      "550\n",
      "546\n",
      "542\n",
      "538\n",
      "534\n",
      "530\n",
      "526\n",
      "522\n",
      "518\n",
      "514\n",
      "510\n",
      "506\n",
      "502\n",
      "498\n",
      "494\n",
      "490\n",
      "486\n",
      "482\n",
      "478\n",
      "474\n",
      "470\n",
      "466\n",
      "462\n",
      "458\n",
      "454\n",
      "450\n",
      "446\n",
      "442\n",
      "438\n",
      "434\n",
      "430\n",
      "426\n",
      "422\n",
      "418\n",
      "414\n",
      "410\n",
      "406\n",
      "402\n",
      "398\n",
      "394\n",
      "390\n",
      "386\n",
      "382\n",
      "378\n",
      "374\n",
      "370\n",
      "366\n",
      "362\n",
      "358\n",
      "354\n",
      "350\n",
      "346\n",
      "342\n",
      "338\n",
      "334\n",
      "330\n",
      "326\n",
      "322\n",
      "318\n",
      "314\n",
      "310\n",
      "306\n",
      "302\n",
      "298\n",
      "294\n",
      "290\n",
      "286\n",
      "282\n",
      "278\n",
      "274\n",
      "270\n",
      "266\n",
      "262\n",
      "258\n",
      "254\n",
      "250\n",
      "246\n",
      "242\n",
      "238\n",
      "234\n",
      "230\n",
      "226\n",
      "222\n",
      "218\n",
      "214\n",
      "210\n",
      "206\n",
      "202\n",
      "198\n",
      "194\n",
      "190\n",
      "186\n",
      "182\n",
      "178\n",
      "174\n",
      "170\n",
      "166\n",
      "162\n",
      "158\n",
      "154\n",
      "150\n",
      "146\n",
      "142\n",
      "138\n",
      "134\n",
      "130\n",
      "126\n",
      "122\n",
      "118\n",
      "114\n",
      "110\n",
      "106\n",
      "102\n",
      "98\n",
      "94\n",
      "90\n",
      "86\n",
      "82\n",
      "78\n",
      "74\n",
      "70\n",
      "66\n",
      "62\n",
      "58\n",
      "54\n",
      "50\n",
      "46\n",
      "42\n",
      "38\n",
      "34\n",
      "30\n",
      "26\n",
      "22\n",
      "18\n",
      "14\n",
      "10\n",
      "6\n",
      "2\n",
      "3\n",
      "6\n",
      "9\n"
     ]
    }
   ],
   "source": [
    "#1. Basic - Print all integers from 0 to 150.\n",
    "for i in range(151):\n",
    "    print(i)\n",
    "#2. Multiples of Five - Print all the multiples of 5 from 5 to 1,000\n",
    "for i in range(5,1002,5):\n",
    "    print(i)\n",
    "#3. Counting, the Dojo Way - Print integers 1 to 100. If divisible by 5, print \"Coding\" instead. If divisible by 10, print \"Coding Dojo\".\n",
    "for i in range(1, 101):\n",
    "    if i % 5 == 0 and i % 10 == 0:\n",
    "        print(\"Coding Dojo\")\n",
    "    elif i % 5==0:\n",
    "        print(\"Coding\")\n",
    "    else:\n",
    "        print(i)\n",
    "#4. Whoa. That Sucker's Huge - Add odd integers from 0 to 500,000, and print the final sum.\n",
    "total = 0\n",
    "for i in range (1, 500001, 2):\n",
    "    total += i\n",
    "print(total) \n",
    "#5. Countdown by Fours - Print positive numbers starting at 2018, counting down by fours.\n",
    "for x in range(2018, 0, -4):\n",
    "    print(x)\n",
    "\n",
    "#6. Flexible Counter - Set three variables: lowNum, highNum, mult. Starting at lowNum and going through highNum,print only the integers that are a multiple of mult. For example, if lowNum=2, highNum=9, and mult=3, the loop should print 3, 6, 9 (on successive lines)\n",
    "lowNum = 2\n",
    "highNum = 9\n",
    "mult = 3\n",
    "\n",
    "for i in range(lowNum, highNum + 1):\n",
    "    if i % mult == 0:\n",
    "        print(i)"
   ]
  },
  {
   "cell_type": "code",
   "execution_count": 36,
   "id": "01d08f59",
   "metadata": {},
   "outputs": [
    {
     "data": {
      "text/plain": [
       "10"
      ]
     },
     "execution_count": 36,
     "metadata": {},
     "output_type": "execute_result"
    }
   ],
   "source": [
    "5 + 5"
   ]
  },
  {
   "cell_type": "code",
   "execution_count": 37,
   "id": "327a9fc9",
   "metadata": {},
   "outputs": [
    {
     "name": "stdout",
     "output_type": "stream",
     "text": [
      "3\n"
     ]
    }
   ],
   "source": [
    "x = 1\n",
    "y = 2\n",
    "print(x+y)"
   ]
  },
  {
   "cell_type": "markdown",
   "id": "287a4340",
   "metadata": {},
   "source": [
    "## Functions"
   ]
  },
  {
   "cell_type": "code",
   "execution_count": 39,
   "id": "e4849087",
   "metadata": {},
   "outputs": [],
   "source": [
    "#new_val = add(3, 5)    # calling the add function, with arguments 3 and 5\n",
    "#print(new_val)    # the result of the add function gets sent back to and saved into new_val, so we will see 8"
   ]
  },
  {
   "cell_type": "code",
   "execution_count": 40,
   "id": "2b8e2f69",
   "metadata": {},
   "outputs": [
    {
     "name": "stdout",
     "output_type": "stream",
     "text": [
      "Hi, Michael\n",
      "Hi, Anna\n",
      "Hi, Eli\n"
     ]
    }
   ],
   "source": [
    "def say_hi(name):\n",
    "    print(\"Hi, \" + name)\n",
    "    \n",
    "say_hi('Michael')\n",
    "say_hi('Anna')\n",
    "say_hi('Eli')"
   ]
  },
  {
   "cell_type": "code",
   "execution_count": 41,
   "id": "20beb86c",
   "metadata": {},
   "outputs": [
    {
     "name": "stdout",
     "output_type": "stream",
     "text": [
      "Hi Michael\n"
     ]
    }
   ],
   "source": [
    "def say_hi(name):\n",
    "    return \"Hi \" + name\n",
    "greeting = say_hi(\"Michael\") # the returned value from say_hi function gets assigned to the 'greeting' variable\n",
    "print(greeting) # this will output 'Hi Michael'"
   ]
  },
  {
   "cell_type": "code",
   "execution_count": 42,
   "id": "f86b05cf",
   "metadata": {},
   "outputs": [
    {
     "name": "stdout",
     "output_type": "stream",
     "text": [
      "10\n",
      "5\n",
      "15\n"
     ]
    }
   ],
   "source": [
    "def add(a, b):\n",
    "    x = a + b\n",
    "    return x\n",
    "sum1 = add(4,6)\n",
    "sum2 = add(1,4)\n",
    "sum3 = sum1 + sum2\n",
    "print(sum1)\n",
    "print(sum2)\n",
    "print(sum3)"
   ]
  },
  {
   "cell_type": "code",
   "execution_count": 43,
   "id": "7bc535da",
   "metadata": {},
   "outputs": [
    {
     "name": "stdout",
     "output_type": "stream",
     "text": [
      "Good morning Brad\n"
     ]
    }
   ],
   "source": [
    "def beCheerful(name):\n",
    "    print(f\"Good morning {name}\")\n",
    "\n",
    "beCheerful(\"Brad\")"
   ]
  },
  {
   "cell_type": "code",
   "execution_count": 44,
   "id": "e91358ea",
   "metadata": {},
   "outputs": [
    {
     "name": "stdout",
     "output_type": "stream",
     "text": [
      "Good morning Brad\n",
      "Good morning Brad\n",
      "\n",
      "Good morning Grace\n",
      "Good morning Grace\n",
      "\n"
     ]
    }
   ],
   "source": [
    "def beCheerful(name=\"Grace\", repeat=2):\n",
    "    print(f\"Good morning {name}\\n\" * repeat) #\\n new line\n",
    "\n",
    "beCheerful(\"Brad\")\n",
    "beCheerful()"
   ]
  },
  {
   "cell_type": "code",
   "execution_count": 45,
   "id": "9df0a43a",
   "metadata": {},
   "outputs": [
    {
     "name": "stdout",
     "output_type": "stream",
     "text": [
      "Good morning Brad\n",
      "Good morning Brad\n",
      "\n",
      "Good morning Grace\n",
      "Good morning Grace\n",
      "\n",
      "Good morning Benny Bob\n",
      "Good morning Benny Bob\n",
      "Good morning Benny Bob\n",
      "Good morning Benny Bob\n",
      "\n"
     ]
    }
   ],
   "source": [
    "def beCheerful(name=\"Grace\", repeat=2):\n",
    "    print(f\"Good morning {name}\\n\" * repeat) #\\n new line\n",
    "\n",
    "beCheerful(\"Brad\")\n",
    "beCheerful()\n",
    "beCheerful(repeat=4, name=\"Benny Bob\")"
   ]
  },
  {
   "cell_type": "code",
   "execution_count": 46,
   "id": "710611f4",
   "metadata": {},
   "outputs": [
    {
     "name": "stdout",
     "output_type": "stream",
     "text": [
      "good morning \n",
      "good morning \n",
      "\n",
      "good morning tim\n",
      "good morning tim\n",
      "\n",
      "good morning john\n",
      "good morning john\n",
      "\n",
      "good morning \n",
      "good morning \n",
      "good morning \n",
      "good morning \n",
      "good morning \n",
      "good morning \n",
      "\n",
      "good morning michael\n",
      "good morning michael\n",
      "good morning michael\n",
      "good morning michael\n",
      "good morning michael\n",
      "\n",
      "good morning kb\n",
      "good morning kb\n",
      "good morning kb\n",
      "\n"
     ]
    }
   ],
   "source": [
    "# set defaults when declaring the parameters\n",
    "def be_cheerful(name='', repeat=2):\n",
    "\tprint(f\"good morning {name}\\n\" * repeat)\n",
    "be_cheerful()    # output: good morning (repeated on 2 lines)\n",
    "be_cheerful(\"tim\")    # output: good morning tim (repeated on 2 lines)\n",
    "be_cheerful(name=\"john\")    # output: good morning john (repeated on 2 lines)\n",
    "be_cheerful(repeat=6)    # output: good morning (repeated on 6 lines)\n",
    "be_cheerful(name=\"michael\", repeat=5)    # output: good morning michael (repeated on 5 lines)\n",
    "# NOTE: argument order doesn't matter if we are explicit when sending in our arguments!\n",
    "be_cheerful(repeat=3, name=\"kb\")    # output: good morning kb (repeated on 3 lines)"
   ]
  },
  {
   "cell_type": "code",
   "execution_count": 47,
   "id": "5a98e423",
   "metadata": {},
   "outputs": [
    {
     "name": "stdout",
     "output_type": "stream",
     "text": [
      "[10, 20, 50, 80]\n"
     ]
    }
   ],
   "source": [
    "def multiply(num_list,num):\n",
    "    for x in range(len(num_list)):\n",
    "        num_list[x] *= num\n",
    "    return num_list\n",
    "a = [2,4,10,16]\n",
    "b = multiply(a,5)\n",
    "print(b)\n",
    "# output:\n",
    "#>>>[10,20,50,80]\n",
    "\n"
   ]
  },
  {
   "cell_type": "markdown",
   "id": "6def75f5",
   "metadata": {},
   "source": [
    "## Functions Basics 1"
   ]
  },
  {
   "cell_type": "code",
   "execution_count": 48,
   "id": "e1b9a8f4",
   "metadata": {},
   "outputs": [
    {
     "name": "stdout",
     "output_type": "stream",
     "text": [
      "5\n",
      "5\n",
      "5\n",
      "5\n",
      "None\n",
      "25\n",
      "100\n",
      "10\n",
      "7\n",
      "14\n",
      "21\n",
      "8\n",
      "500\n",
      "500\n",
      "300\n",
      "500\n",
      "500\n",
      "500\n",
      "300\n",
      "500\n",
      "500\n",
      "500\n",
      "300\n",
      "300\n",
      "1\n",
      "3\n",
      "2\n",
      "1\n",
      "3\n",
      "5\n",
      "10\n"
     ]
    }
   ],
   "source": [
    "#1\n",
    "def number_of_food_groups():\n",
    "    return 5\n",
    "print(number_of_food_groups())\n",
    "#>>>5\n",
    "\n",
    "#2\n",
    "def number_of_military_branches():\n",
    "    return 5\n",
    "#print(number_of_days_in_a_week_silicon_or_triangle_sides() + number_of_military_branches())\n",
    "#>>>name 'number_of_days_in_a_week_silicon_or_triangle_sides' is not defined\n",
    "\n",
    "#3\n",
    "def number_of_books_on_hold():\n",
    "    return 5\n",
    "    return 10\n",
    "print(number_of_books_on_hold())\n",
    "#>>>5 (note: function stops after first return)\n",
    "\n",
    "#4\n",
    "def number_of_fingers():\n",
    "    return 5\n",
    "    print(10)\n",
    "print(number_of_fingers())\n",
    "#>>>5 (note: function stops after first return)\n",
    "\n",
    "#5\n",
    "def number_of_great_lakes():\n",
    "    print(5)\n",
    "x = number_of_great_lakes()\n",
    "print(x)\n",
    "#>>>5 and None (prints just five and number_of_great_lakes has note been defined)\n",
    "\n",
    "#6\n",
    "def add(b,c):\n",
    "    print(b+c)\n",
    "#print(add(1,2) + add(2,3))\n",
    "#>>>3 and 5 (error for plus sign)\n",
    "\n",
    "#7\n",
    "def concatenate(b,c):\n",
    "    return str(b)+str(c)\n",
    "print(concatenate(2,5))\n",
    "#>>>25 (operation puts 2 and 5 next to each other to show 25 - strings)\n",
    "\n",
    "#8\n",
    "def number_of_oceans_or_fingers_or_continents():\n",
    "    b = 100\n",
    "    print(b)\n",
    "    if b < 10:\n",
    "        return 5\n",
    "    else:\n",
    "        return 10\n",
    "    return 7\n",
    "print(number_of_oceans_or_fingers_or_continents())\n",
    "#>>>100 and 10 (100 prints directly from print statement and else statement is run with a termination of 10)\n",
    "\n",
    "#9\n",
    "def number_of_days_in_a_week_silicon_or_triangle_sides(b,c):\n",
    "    if b<c:\n",
    "        return 7\n",
    "    else:\n",
    "        return 14\n",
    "    return 3\n",
    "print(number_of_days_in_a_week_silicon_or_triangle_sides(2,3))\n",
    "print(number_of_days_in_a_week_silicon_or_triangle_sides(5,3))\n",
    "print(number_of_days_in_a_week_silicon_or_triangle_sides(2,3) + number_of_days_in_a_week_silicon_or_triangle_sides(5,3))\n",
    "#>>>7, 14, 21\n",
    "\n",
    "#10\n",
    "def addition(b,c):\n",
    "    return b+c\n",
    "    return 10\n",
    "print(addition(3,5))\n",
    "#>>>8\n",
    "\n",
    "#11\n",
    "b = 500\n",
    "print(b)\n",
    "def foobar():\n",
    "    b = 300\n",
    "    print(b)\n",
    "print(b)\n",
    "foobar()\n",
    "print(b)\n",
    "#>>>500, 500, 300, 500\n",
    "\n",
    "#12\n",
    "b = 500\n",
    "print(b)\n",
    "def foobar():\n",
    "    b = 300\n",
    "    print(b)\n",
    "    return b\n",
    "print(b)\n",
    "foobar()\n",
    "print(b)\n",
    "#>>>500, 500, 300, 500\n",
    "\n",
    "#13\n",
    "b = 500\n",
    "print(b)\n",
    "def foobar():\n",
    "    b = 300\n",
    "    print(b)\n",
    "    return b\n",
    "print(b)\n",
    "b=foobar()\n",
    "print(b)\n",
    "#>>>500, 500, 300, 300\n",
    "\n",
    "#14\n",
    "def foo():\n",
    "    print(1)\n",
    "    bar()\n",
    "    print(2)\n",
    "def bar():\n",
    "    print(3)\n",
    "foo()\n",
    "#>>>1, 3, 2\n",
    "\n",
    "#15\n",
    "def foo():\n",
    "    print(1)\n",
    "    x = bar()\n",
    "    print(x)\n",
    "    return 10\n",
    "def bar():\n",
    "    print(3)\n",
    "    return 5\n",
    "y = foo()\n",
    "print(y)\n",
    "#>>>1, 3, 5, 10"
   ]
  },
  {
   "cell_type": "code",
   "execution_count": 49,
   "id": "28d4295f",
   "metadata": {},
   "outputs": [
    {
     "name": "stdout",
     "output_type": "stream",
     "text": [
      "[5, 4, 3, 2, 1, 0]\n"
     ]
    }
   ],
   "source": [
    "#1. Countdown - Create a function that accepts a number as an input. Return a new list that counts down by one, from the\n",
    "#number (as the 0th element) down to 0 (as the last element).\n",
    "#Example: countdown(5) should return [5,4,3,2,1,0]\n",
    "def countDown(x):\n",
    "    y = []\n",
    "    while x > -1:\n",
    "        y.append(x)\n",
    "        x = x - 1\n",
    "    else:\n",
    "        print(y)\n",
    "        \n",
    "countDown(5)"
   ]
  },
  {
   "cell_type": "code",
   "execution_count": 50,
   "id": "a64a2b3f",
   "metadata": {},
   "outputs": [
    {
     "name": "stdout",
     "output_type": "stream",
     "text": [
      "[5, 4, 3, 2, 1, 0]\n"
     ]
    }
   ],
   "source": [
    "def countdown(num):\n",
    "    output = []\n",
    "    for i in range(num,-1,-1):\n",
    "        output.append(i)\n",
    "    return output\n",
    "\n",
    "print(countdown(5))"
   ]
  },
  {
   "cell_type": "code",
   "execution_count": 51,
   "id": "3a93ea1f",
   "metadata": {},
   "outputs": [
    {
     "name": "stdout",
     "output_type": "stream",
     "text": [
      "1\n"
     ]
    },
    {
     "data": {
      "text/plain": [
       "2"
      ]
     },
     "execution_count": 51,
     "metadata": {},
     "output_type": "execute_result"
    }
   ],
   "source": [
    "#2. Print and Return - Create a function that will receive a list with two numbers. Print the first value and return the second.\n",
    "#Example: print_and_return([1,2]) should print 1 and return 2\n",
    "def pairs(x, y):\n",
    "    z = []\n",
    "    z.append(x)\n",
    "    z.append(y)\n",
    "    print(x)\n",
    "    return(y)\n",
    "pairs(1, 2)"
   ]
  },
  {
   "cell_type": "code",
   "execution_count": 52,
   "id": "0577dd27",
   "metadata": {},
   "outputs": [
    {
     "name": "stdout",
     "output_type": "stream",
     "text": [
      "1\n",
      "2\n"
     ]
    }
   ],
   "source": [
    "def print_and_return(list):\n",
    "    print(list[0])\n",
    "    return list[1]\n",
    "\n",
    "print(print_and_return([1,2]))"
   ]
  },
  {
   "cell_type": "code",
   "execution_count": 53,
   "id": "7d057f0b",
   "metadata": {},
   "outputs": [
    {
     "name": "stdout",
     "output_type": "stream",
     "text": [
      "6\n"
     ]
    }
   ],
   "source": [
    "#3. First Plus Length - Create a function that accepts a list and returns the sum of the first value in the list plus\n",
    "#the list's length.\n",
    "#Example: first_plus_length([1,2,3,4,5]) should return 6 (first value: 1 + length: 5)\n",
    "def first_plus_length(x):\n",
    "    y = []\n",
    "    while x <= 5:\n",
    "        y.append(x)\n",
    "        x += 1\n",
    "    else:\n",
    "        a = y[0]\n",
    "        b = len(y)\n",
    "        c = a + b\n",
    "        #y[0] + len(y) = c\n",
    "        print(c)\n",
    "\n",
    "first_plus_length(5)   "
   ]
  },
  {
   "cell_type": "code",
   "execution_count": 54,
   "id": "31c0051a",
   "metadata": {},
   "outputs": [
    {
     "name": "stdout",
     "output_type": "stream",
     "text": [
      "6\n"
     ]
    }
   ],
   "source": [
    "def first_plus_length(list):\n",
    "    return list[0] + len(list)\n",
    "\n",
    "print(first_plus_length([1,2,3,4,5]))"
   ]
  },
  {
   "cell_type": "code",
   "execution_count": 55,
   "id": "9e1e779a",
   "metadata": {},
   "outputs": [
    {
     "name": "stdout",
     "output_type": "stream",
     "text": [
      "3\n",
      "[5, 3, 4]\n",
      "False\n"
     ]
    }
   ],
   "source": [
    "#4.Values Greater than Second - Write a function that accepts a list and creates a new list containing only the\n",
    "#values from the original list that are greater than its 2nd value. Print how many values this is and then return\n",
    "#the new list. If the list has less than 2 elements, have the function return False\n",
    "#Example: values_greater_than_second([5,2,3,2,1,4]) should print 3 and return [5,3,4]\n",
    "#Example: values_greater_than_second([3]) should return False\n",
    "def values_greater_than_second(list):\n",
    "    if len(list) < 2:\n",
    "        return False\n",
    "    output = []\n",
    "    for i in range(0,len(list)):\n",
    "        if list[i] > list[1]:\n",
    "            output.append(list[i])\n",
    "    print(len(output))\n",
    "    return output\n",
    "\n",
    "\n",
    "print(values_greater_than_second([5,2,3,2,1,4]))\n",
    "print(values_greater_than_second([3]))"
   ]
  },
  {
   "cell_type": "code",
   "execution_count": 56,
   "id": "297d005d",
   "metadata": {},
   "outputs": [
    {
     "name": "stdout",
     "output_type": "stream",
     "text": [
      "[7, 7, 7, 7]\n",
      "[2, 2, 2, 2, 2, 2]\n"
     ]
    }
   ],
   "source": [
    "#5.This Length, That Value - Write a function that accepts two integers as parameters: size and value. The function\n",
    "#should create and return a list whose length is equal to the given size, and whose values are all the given value.\n",
    "#Example: length_and_value(4,7) should return [7,7,7,7]\n",
    "#Example: length_and_value(6,2) should return [2,2,2,2,2,2]\n",
    "def length_and_value(size,value):\n",
    "    output = []\n",
    "    for i in range(0, size):\n",
    "        output.append(value)\n",
    "    return output\n",
    "\n",
    "print(length_and_value(4,7))\n",
    "print(length_and_value(6,2))"
   ]
  },
  {
   "cell_type": "code",
   "execution_count": 57,
   "id": "081a6eca",
   "metadata": {},
   "outputs": [
    {
     "name": "stdout",
     "output_type": "stream",
     "text": [
      "[[5, 2, 3], [10, 8, 9]]\n",
      "[[5, 2, 3], [15, 8, 9]]\n",
      "{'first_name': 'Michael', 'last_name': 'Jordan'}\n",
      "{'first_name': 'Michael', 'last_name': 'Bryant'}\n",
      "Messi\n",
      "Andres\n",
      "[{'x': 10, 'y': 20}]\n",
      "[{'x': 10, 'y': 30}]\n"
     ]
    }
   ],
   "source": [
    "x = [ [5,2,3], [10,8,9] ] \n",
    "students = [\n",
    "     {'first_name':  'Michael', 'last_name' : 'Jordan'},\n",
    "     {'first_name' : 'John', 'last_name' : 'Rosales'}\n",
    "]\n",
    "sports_directory = {\n",
    "    'basketball' : ['Kobe', 'Jordan', 'James', 'Curry'],\n",
    "    'soccer' : ['Messi', 'Ronaldo', 'Rooney']\n",
    "}\n",
    "z = [ {'x': 10, 'y': 20} ]\n",
    "\n",
    "print(x)\n",
    "x[1][0] = 15\n",
    "print(x)\n",
    "\n",
    "print(students[0])\n",
    "students[0]['last_name'] = \"Bryant\"\n",
    "print(students[0])\n",
    "\n",
    "print(sports_directory[\"soccer\"][0])\n",
    "sports_directory[\"soccer\"][0] = \"Andres\"\n",
    "print(sports_directory[\"soccer\"][0])\n",
    "\n",
    "print(z)\n",
    "z[0][\"y\"] = 30\n",
    "print(z)"
   ]
  },
  {
   "cell_type": "code",
   "execution_count": 58,
   "id": "528f253f",
   "metadata": {},
   "outputs": [
    {
     "name": "stdout",
     "output_type": "stream",
     "text": [
      "first_name - Michael, last_name - Jordan\n",
      "first_name - John, last_name - Rosales\n",
      "first_name - Mark, last_name - Guillen\n",
      "first_name - KB, last_name - Tonel\n"
     ]
    }
   ],
   "source": [
    "some_list = [\n",
    "         {'first_name':  'Michael', 'last_name' : 'Jordan'},\n",
    "         {'first_name' : 'John', 'last_name' : 'Rosales'},\n",
    "         {'first_name' : 'Mark', 'last_name' : 'Guillen'},\n",
    "         {'first_name' : 'KB', 'last_name' : 'Tonel'}\n",
    "]\n",
    "\n",
    "users = len(some_list)\n",
    "def iterateDictionary(some_list):\n",
    "    for i in range(users):\n",
    "        print(\"first_name - \", end=\"\")\n",
    "        print(some_list[i][\"first_name\"], end=\", \")\n",
    "        print(\"last_name - \", end=\"\")\n",
    "        print(some_list[i][\"last_name\"])\n",
    "\n",
    "iterateDictionary(some_list)"
   ]
  },
  {
   "cell_type": "code",
   "execution_count": 59,
   "id": "06fde971",
   "metadata": {},
   "outputs": [
    {
     "name": "stdout",
     "output_type": "stream",
     "text": [
      "Michael\n",
      "John\n",
      "Mark\n",
      "KB\n",
      "\n",
      "Jordan\n",
      "Rosales\n",
      "Guillen\n",
      "Tonel\n"
     ]
    }
   ],
   "source": [
    "some_list = [\n",
    "         {'first_name':  'Michael', 'last_name' : 'Jordan'},\n",
    "         {'first_name' : 'John', 'last_name' : 'Rosales'},\n",
    "         {'first_name' : 'Mark', 'last_name' : 'Guillen'},\n",
    "         {'first_name' : 'KB', 'last_name' : 'Tonel'}\n",
    "]\n",
    "\n",
    "users = len(some_list)\n",
    "def iterateDictionary(some_list):\n",
    "    for i in range(users):\n",
    "        print(some_list[i][\"first_name\"])\n",
    "        \n",
    "    print('')\n",
    "        \n",
    "    for r in range(users):\n",
    "        print(some_list[r][\"last_name\"])\n",
    "\n",
    "\n",
    "iterateDictionary(some_list)"
   ]
  },
  {
   "cell_type": "code",
   "execution_count": 60,
   "id": "565a19ba",
   "metadata": {},
   "outputs": [
    {
     "name": "stdout",
     "output_type": "stream",
     "text": [
      "7 LOCATIONS\n",
      "San Jose\n",
      "Seattle\n",
      "Dallas\n",
      "Chicago\n",
      "Tulsa\n",
      "DC\n",
      "Burbank\n",
      "\n",
      "8 INSTRUCTORS\n",
      "Michael\n",
      "Amy\n",
      "Eduardo\n",
      "Josh\n",
      "Graham\n",
      "Patrick\n",
      "Minh\n",
      "Devon\n"
     ]
    }
   ],
   "source": [
    "some_dict = {\n",
    "   'locations': ['San Jose', 'Seattle', 'Dallas', 'Chicago', 'Tulsa', 'DC', 'Burbank'],\n",
    "   'instructors': ['Michael', 'Amy', 'Eduardo', 'Josh', 'Graham', 'Patrick', 'Minh', 'Devon']\n",
    "}\n",
    "\n",
    "cities = len(some_dict[\"locations\"])\n",
    "names = len(some_dict[\"instructors\"])\n",
    "\n",
    "def printInfo(some_dict):\n",
    "    print(str(cities) + \" LOCATIONS\")\n",
    "    for i in range(cities):\n",
    "        print(some_dict['locations'][i])\n",
    "        \n",
    "    print('')\n",
    "    \n",
    "    print(str(names) + \" INSTRUCTORS\")   \n",
    "    for r in range(names):\n",
    "        print(some_dict['instructors'][r])\n",
    "\n",
    "printInfo(some_dict)"
   ]
  },
  {
   "cell_type": "markdown",
   "id": "dea6fdf0",
   "metadata": {},
   "source": [
    "# ***************Object Oriented Programming (OOP)**************************"
   ]
  },
  {
   "cell_type": "code",
   "execution_count": 61,
   "id": "6f17c8c2",
   "metadata": {},
   "outputs": [],
   "source": [
    "class Dog:\n",
    "    pass"
   ]
  },
  {
   "cell_type": "code",
   "execution_count": 62,
   "id": "60ab56f1",
   "metadata": {},
   "outputs": [
    {
     "data": {
      "text/plain": [
       "<__main__.Dog at 0x1c991a37af0>"
      ]
     },
     "execution_count": 62,
     "metadata": {},
     "output_type": "execute_result"
    }
   ],
   "source": [
    "Dog()"
   ]
  },
  {
   "cell_type": "code",
   "execution_count": 63,
   "id": "dfa0b0be",
   "metadata": {},
   "outputs": [
    {
     "data": {
      "text/plain": [
       "False"
      ]
     },
     "execution_count": 63,
     "metadata": {},
     "output_type": "execute_result"
    }
   ],
   "source": [
    "a = Dog()\n",
    "b = Dog()\n",
    "a == b"
   ]
  },
  {
   "cell_type": "code",
   "execution_count": 64,
   "id": "5414cf5b",
   "metadata": {},
   "outputs": [],
   "source": [
    "class Dog:\n",
    "    # Class attribute\n",
    "    species = \"Canis familiaris\"\n",
    "    \n",
    "    def __init__(self, name, age):\n",
    "        self.name = name\n",
    "        self.age = age"
   ]
  },
  {
   "cell_type": "code",
   "execution_count": 65,
   "id": "973f0587",
   "metadata": {},
   "outputs": [],
   "source": [
    "buddy = Dog(\"Buddy\", 9)\n",
    "miles = Dog(\"Miles\", 4)"
   ]
  },
  {
   "cell_type": "code",
   "execution_count": 66,
   "id": "b8d1985d",
   "metadata": {},
   "outputs": [
    {
     "data": {
      "text/plain": [
       "'Canis familiaris'"
      ]
     },
     "execution_count": 66,
     "metadata": {},
     "output_type": "execute_result"
    }
   ],
   "source": [
    "miles.species"
   ]
  },
  {
   "cell_type": "code",
   "execution_count": 67,
   "id": "44cbec1b",
   "metadata": {},
   "outputs": [
    {
     "data": {
      "text/plain": [
       "'Buddy'"
      ]
     },
     "execution_count": 67,
     "metadata": {},
     "output_type": "execute_result"
    }
   ],
   "source": [
    "buddy.name"
   ]
  },
  {
   "cell_type": "code",
   "execution_count": 68,
   "id": "64ac669a",
   "metadata": {},
   "outputs": [
    {
     "data": {
      "text/plain": [
       "9"
      ]
     },
     "execution_count": 68,
     "metadata": {},
     "output_type": "execute_result"
    }
   ],
   "source": [
    "buddy.age"
   ]
  },
  {
   "cell_type": "code",
   "execution_count": 69,
   "id": "3063f08e",
   "metadata": {},
   "outputs": [],
   "source": [
    "buddy.age = 10 #Change attribute"
   ]
  },
  {
   "cell_type": "code",
   "execution_count": 70,
   "id": "3f5cf5f9",
   "metadata": {},
   "outputs": [
    {
     "data": {
      "text/plain": [
       "10"
      ]
     },
     "execution_count": 70,
     "metadata": {},
     "output_type": "execute_result"
    }
   ],
   "source": [
    "buddy.age"
   ]
  },
  {
   "cell_type": "code",
   "execution_count": 71,
   "id": "8c79ebbe",
   "metadata": {},
   "outputs": [],
   "source": [
    "miles.species = \"Felis silvestris\""
   ]
  },
  {
   "cell_type": "code",
   "execution_count": 72,
   "id": "dcf4d8bf",
   "metadata": {},
   "outputs": [
    {
     "data": {
      "text/plain": [
       "'Felis silvestris'"
      ]
     },
     "execution_count": 72,
     "metadata": {},
     "output_type": "execute_result"
    }
   ],
   "source": [
    "miles.species"
   ]
  },
  {
   "cell_type": "markdown",
   "id": "973f4697",
   "metadata": {},
   "source": [
    "## OOP - Youtube tips"
   ]
  },
  {
   "cell_type": "code",
   "execution_count": 73,
   "id": "e0e4636d",
   "metadata": {},
   "outputs": [],
   "source": [
    "class Employee:\n",
    "    def __init__(self, first, last, pay):\n",
    "        self.first = first\n",
    "        self.last = last\n",
    "        self.pay = pay\n",
    "        self.email = first + \".\" + last + '@company.com'\n",
    "        \n",
    "    def fullname(self):\n",
    "        return '{} {}'.format(self.first, self.last)\n",
    "    def salary(self):\n",
    "        return '{}'.format(self.pay)\n",
    "    def companyEmail(self):\n",
    "        return '{}'.format(self.email)\n",
    "        \n",
    "emp_1 = Employee('Brad', 'Roehrig', 150000)\n",
    "emp_2 = Employee('Grace', 'Roehrig', 200000)"
   ]
  },
  {
   "cell_type": "code",
   "execution_count": 74,
   "id": "16a56d58",
   "metadata": {},
   "outputs": [
    {
     "name": "stdout",
     "output_type": "stream",
     "text": [
      "Brad Roehrig\n",
      "150000\n",
      "Brad.Roehrig@company.com\n"
     ]
    }
   ],
   "source": [
    "print(emp_1.fullname())\n",
    "print(emp_1.salary())\n",
    "print(emp_1.companyEmail())"
   ]
  },
  {
   "cell_type": "code",
   "execution_count": 75,
   "id": "dc855c11",
   "metadata": {},
   "outputs": [
    {
     "name": "stdout",
     "output_type": "stream",
     "text": [
      "Brad Roehrig 150000 Brad.Roehrig@company.com\n",
      "Grace Roehrig 200000 Grace.Roehrig@company.com\n"
     ]
    }
   ],
   "source": [
    "print(emp_1.first, emp_1.last, emp_1.pay, emp_1.email)\n",
    "print(emp_2.first, emp_2.last, emp_2.pay, emp_2.email)"
   ]
  },
  {
   "cell_type": "code",
   "execution_count": 76,
   "id": "8774f802",
   "metadata": {},
   "outputs": [
    {
     "data": {
      "text/plain": [
       "'Brad Roehrig'"
      ]
     },
     "execution_count": 76,
     "metadata": {},
     "output_type": "execute_result"
    }
   ],
   "source": [
    "emp_1.fullname()"
   ]
  },
  {
   "cell_type": "code",
   "execution_count": 77,
   "id": "cf53cdb6",
   "metadata": {},
   "outputs": [
    {
     "name": "stdout",
     "output_type": "stream",
     "text": [
      "Brad Roehrig\n"
     ]
    }
   ],
   "source": [
    "print(Employee.fullname(emp_1))"
   ]
  },
  {
   "cell_type": "code",
   "execution_count": 78,
   "id": "5321f6a0",
   "metadata": {},
   "outputs": [
    {
     "name": "stdout",
     "output_type": "stream",
     "text": [
      "Bud Roehrig\n"
     ]
    }
   ],
   "source": [
    "emp_1.first = \"Bud\" #Changes attribute\n",
    "print(Employee.fullname(emp_1))"
   ]
  },
  {
   "cell_type": "markdown",
   "id": "e859b36b",
   "metadata": {},
   "source": [
    "## OOP - Banking app"
   ]
  },
  {
   "cell_type": "code",
   "execution_count": 79,
   "id": "af231801",
   "metadata": {},
   "outputs": [],
   "source": [
    "class User:\t\t\n",
    "    def __init__(self):\n",
    "        self.name = \"Michael\"\n",
    "        self.email = \"michael@codingdojo.com\"\n",
    "        self.account_balance = 0"
   ]
  },
  {
   "cell_type": "code",
   "execution_count": 80,
   "id": "ee229579",
   "metadata": {},
   "outputs": [
    {
     "name": "stdout",
     "output_type": "stream",
     "text": [
      "Michael\n",
      "Michael\n"
     ]
    }
   ],
   "source": [
    "User()\n",
    "guido = User()\n",
    "monty = User()\n",
    "# Accessing the instance's attributes\n",
    "print(guido.name)\t# output: Michael\n",
    "print(monty.name)\t# output: Michael"
   ]
  },
  {
   "cell_type": "code",
   "execution_count": 81,
   "id": "8abbe725",
   "metadata": {},
   "outputs": [
    {
     "name": "stdout",
     "output_type": "stream",
     "text": [
      "Guido\n",
      "Monty\n"
     ]
    }
   ],
   "source": [
    "guido.name = \"Guido\"\n",
    "print(guido.name) # output: Guido\n",
    "monty.name = \"Monty\"\n",
    "print(monty.name) # output: Monty"
   ]
  },
  {
   "cell_type": "code",
   "execution_count": 82,
   "id": "c3c39e76",
   "metadata": {},
   "outputs": [],
   "source": [
    "class User:\n",
    "    # declaring a class attribute\n",
    "    bank_name = \"First National Dojo\"\t\t\n",
    "    def __init__(self):\n",
    "        self.name = \"Michael\"\n",
    "        self.email = \"michael@codingdojo.com\"\n",
    "        self.account_balance = 0"
   ]
  },
  {
   "cell_type": "code",
   "execution_count": 83,
   "id": "4eb27fea",
   "metadata": {},
   "outputs": [
    {
     "name": "stdout",
     "output_type": "stream",
     "text": [
      "Dojo Credit Union\n",
      "First National Dojo\n"
     ]
    }
   ],
   "source": [
    "guido = User()\n",
    "monty = User()\n",
    "guido.bank_name = \"Dojo Credit Union\"\n",
    "print(guido.bank_name) # output: Dojo Credit Union \n",
    "print(monty.bank_name) # output: First National Dojo"
   ]
  },
  {
   "cell_type": "code",
   "execution_count": 84,
   "id": "e738fe25",
   "metadata": {},
   "outputs": [
    {
     "name": "stdout",
     "output_type": "stream",
     "text": [
      "Dojo Credit Union\n",
      "Bank of Dojo\n"
     ]
    }
   ],
   "source": [
    "User.bank_name = \"Bank of Dojo\"\n",
    "print(guido.bank_name) # output: Bank of Dojo \n",
    "print(monty.bank_name) # output: Bank of Dojo"
   ]
  },
  {
   "cell_type": "code",
   "execution_count": 85,
   "id": "38091758",
   "metadata": {},
   "outputs": [
    {
     "name": "stdout",
     "output_type": "stream",
     "text": [
      "Guido Van Rossum\n",
      "Monty Python\n",
      "First National Dojo\n",
      "First National Dojo\n"
     ]
    }
   ],
   "source": [
    "class User:\n",
    "    # class attributes get defined in the class \n",
    "    bank_name = \"First National Dojo\"\n",
    "    # now our method has 2 parameters!\n",
    "    def __init__(self, name, email_address):\n",
    "    \t# we assign them accordingly\n",
    "        self.name = name\n",
    "        self.email = email_address\n",
    "    \t# the account balance is set to $0\n",
    "        self.account_balance = 0\n",
    "guido = User(\"Guido Van Rossum\", \"guido@python.com\")\n",
    "monty = User(\"Monty Python\", \"monty@python.com\")\n",
    "print(guido.name)\t# output: Guido van Rossum\n",
    "print(monty.name)\t# output: Monty Python\n",
    "print(monty.bank_name)\n",
    "print(guido.bank_name)"
   ]
  },
  {
   "cell_type": "code",
   "execution_count": 86,
   "id": "e9923c6e",
   "metadata": {},
   "outputs": [],
   "source": [
    "monty.bank_name = \"Dojo Credit Union\""
   ]
  },
  {
   "cell_type": "code",
   "execution_count": 87,
   "id": "f93e262c",
   "metadata": {},
   "outputs": [
    {
     "name": "stdout",
     "output_type": "stream",
     "text": [
      "Guido Van Rossum\n",
      "Monty Python\n",
      "Dojo Credit Union\n",
      "First National Dojo\n"
     ]
    }
   ],
   "source": [
    "print(guido.name)\t# output: Guido van Rossum\n",
    "print(monty.name)\t# output: Monty Python\n",
    "print(monty.bank_name)\n",
    "print(guido.bank_name)"
   ]
  },
  {
   "cell_type": "markdown",
   "id": "c17926a2",
   "metadata": {},
   "source": [
    "## User Assignment OOP"
   ]
  },
  {
   "cell_type": "code",
   "execution_count": 88,
   "id": "7b17ffec",
   "metadata": {},
   "outputs": [
    {
     "name": "stdout",
     "output_type": "stream",
     "text": [
      "User: Brad, Balance: 900\n",
      "User: Matt, Balance: 1200\n",
      "User: Grace, Balance: 1000\n",
      "User: Brad, Balance: 500\n",
      "User: Grace, Balance: 1400\n"
     ]
    }
   ],
   "source": [
    "class User:\n",
    "\n",
    "    def __init__(self, name):\n",
    "        self.name = name\n",
    "        self.amount = 0\n",
    "\n",
    "    def make_deposit(self, amount):\n",
    "        self.amount += amount\n",
    "\n",
    "    def make_withdrawl(self,amount):\n",
    "        self.amount -= amount\n",
    "\n",
    "    def display_user_balance(self):\n",
    "        print(f\"User: {self.name}, Balance: {self.amount}\")\n",
    "\n",
    "    def transfer_money(self, amount, user):\n",
    "        self.amount -= amount\n",
    "        user.amount += amount\n",
    "        self.display_user_balance()\n",
    "        user.display_user_balance()\n",
    "\n",
    "\n",
    "brad = User(\"Brad\")\n",
    "matt = User(\"Matt\")\n",
    "grace = User(\"Grace\")\n",
    "\n",
    "brad.make_deposit(300)\n",
    "brad.make_deposit(200)\n",
    "brad.make_deposit(500)\n",
    "brad.make_withdrawl(100)\n",
    "brad.display_user_balance()\n",
    "\n",
    "matt.make_deposit(1000)\n",
    "matt.make_deposit(1000)\n",
    "matt.make_withdrawl(500)\n",
    "matt.make_withdrawl(300)\n",
    "matt.display_user_balance()\n",
    "\n",
    "grace.make_deposit(3500)\n",
    "grace.make_withdrawl(1000)\n",
    "grace.make_withdrawl(500)\n",
    "grace.make_withdrawl(1000)\n",
    "grace.display_user_balance()\n",
    "\n",
    "\n",
    "brad.transfer_money(400, grace)"
   ]
  },
  {
   "cell_type": "markdown",
   "id": "a410790d",
   "metadata": {},
   "source": [
    "## User Assignment OOP - Chaining"
   ]
  },
  {
   "cell_type": "code",
   "execution_count": 89,
   "id": "f28b9be6",
   "metadata": {},
   "outputs": [
    {
     "name": "stdout",
     "output_type": "stream",
     "text": [
      "User: Brad, Balance: 900\n",
      "User: Matt, Balance: 1200\n",
      "User: Grace, Balance: 1000\n",
      "User: Brad, Balance: 500\n",
      "User: Grace, Balance: 1400\n"
     ]
    },
    {
     "data": {
      "text/plain": [
       "<__main__.User at 0x1c991a3f640>"
      ]
     },
     "execution_count": 89,
     "metadata": {},
     "output_type": "execute_result"
    }
   ],
   "source": [
    "class User:\n",
    "\n",
    "    def __init__(self, name):\n",
    "        self.name = name\n",
    "        self.amount = 0\n",
    "\n",
    "    def make_deposit(self, amount):\n",
    "        self.amount += amount\n",
    "        return self\n",
    "\n",
    "    def make_withdrawl(self,amount):\n",
    "        self.amount -= amount\n",
    "        return self\n",
    "\n",
    "    def display_user_balance(self):\n",
    "        print(f\"User: {self.name}, Balance: {self.amount}\")\n",
    "        return self\n",
    "    \n",
    "    def transfer_money(self, amount, user):\n",
    "        self.amount -= amount\n",
    "        user.amount += amount\n",
    "        self.display_user_balance()\n",
    "        user.display_user_balance()\n",
    "        return self\n",
    "\n",
    "brad = User(\"Brad\")\n",
    "matt = User(\"Matt\")\n",
    "grace = User(\"Grace\")\n",
    "\n",
    "brad.make_deposit(300).make_deposit(200).make_deposit(500).make_withdrawl(100).display_user_balance()\n",
    "\n",
    "matt.make_deposit(1000).make_deposit(1000).make_withdrawl(500).make_withdrawl(300).display_user_balance()\n",
    "\n",
    "grace.make_deposit(3500).make_withdrawl(1000).make_withdrawl(500).make_withdrawl(1000).display_user_balance()\n",
    "\n",
    "\n",
    "brad.transfer_money(400, grace)"
   ]
  },
  {
   "cell_type": "markdown",
   "id": "e63d02af",
   "metadata": {},
   "source": [
    "## BankAccount Project @classmethod"
   ]
  },
  {
   "cell_type": "code",
   "execution_count": 90,
   "id": "22cbec15",
   "metadata": {},
   "outputs": [
    {
     "name": "stdout",
     "output_type": "stream",
     "text": [
      "Balance: 357333.075\n",
      "Balance: 650832.0\n",
      "Balance: 357333.075\n",
      "Balance: 650832.0\n"
     ]
    }
   ],
   "source": [
    "class BankAccount:\n",
    "    accounts = []\n",
    "    def __init__(self, int_rate, balance):\n",
    "        self.int_rate = int_rate\n",
    "        self.balance = balance\n",
    "        BankAccount.accounts.append(self)\n",
    "    \n",
    "    def deposit(self, amount):\n",
    "        self.balance += amount\n",
    "        return self\n",
    "    \n",
    "    def withdraw(self, amount):\n",
    "        if(self.balance - amount) >= 0:\n",
    "            self.balance -= amount\n",
    "        else:\n",
    "            print(\"Insufficient Funds: Charging a $5 fee\")\n",
    "            self.balance -= 5\n",
    "        return self\n",
    "    \n",
    "    def display_account_info(self):\n",
    "        print(f\"Balance: {self.balance}\")\n",
    "        return self\n",
    "    \n",
    "    def yield_interest(self):\n",
    "        if self.balance > 0:\n",
    "            self.balance += (self.balance * self.int_rate)\n",
    "        return self\n",
    "    \n",
    "    @classmethod\n",
    "    def print_all_accounts(cls):\n",
    "        for account in cls.accounts:\n",
    "            account.display_account_info()\n",
    "        \n",
    "savings = BankAccount(.0225,350000)\n",
    "checking = BankAccount(.3,500000)\n",
    "\n",
    "savings.deposit(10).deposit(20).deposit(40).withdraw(600).yield_interest().display_account_info()\n",
    "checking.deposit(100).deposit(200).deposit(400).withdraw(60).yield_interest().display_account_info()\n",
    "\n",
    "BankAccount.print_all_accounts()"
   ]
  },
  {
   "cell_type": "markdown",
   "id": "fbab8f97",
   "metadata": {},
   "source": [
    "## UsersWithBankAccountsProj"
   ]
  },
  {
   "cell_type": "code",
   "execution_count": 91,
   "id": "9e2694e2",
   "metadata": {},
   "outputs": [
    {
     "name": "stdout",
     "output_type": "stream",
     "text": [
      "User: Adrien, Checking Balance: 1100\n",
      "User: Adrien, Savings Balance: 3000\n"
     ]
    },
    {
     "data": {
      "text/plain": [
       "<__main__.User at 0x1c9918e7520>"
      ]
     },
     "execution_count": 91,
     "metadata": {},
     "output_type": "execute_result"
    }
   ],
   "source": [
    "class BankAccount:\n",
    "    accounts = []\n",
    "    def __init__(self,int_rate,balance):\n",
    "        self.int_rate = int_rate\n",
    "        self.balance = balance\n",
    "        BankAccount.accounts.append(self)\n",
    "\n",
    "    def deposit(self, amount):\n",
    "        self.balance += amount\n",
    "        return self\n",
    "\n",
    "    def withdraw(self,amount):\n",
    "        if(self.balance - amount) >= 0:\n",
    "            self.balance -= amount\n",
    "        else:\n",
    "            print(\"Insufficient Funds: Charging a $5 fee\")\n",
    "            self.balance -= 5\n",
    "        return self\n",
    "    \n",
    "    def display_account_info(self):\n",
    "        return f\"{self.balance}\"\n",
    "\n",
    "    def yeild_interest(self):\n",
    "        if self.balance > 0:\n",
    "            self.balance += (self.balance * self.int_rate)\n",
    "        return self\n",
    "\n",
    "    @classmethod\n",
    "    def print_all_accounts(cls):\n",
    "        for account in cls.accounts:\n",
    "            account.display_account_info()\n",
    "\n",
    "\n",
    "class User:\n",
    "\n",
    "    def __init__(self, name):\n",
    "        self.name = name\n",
    "        self.account = {\n",
    "            \"checking\" : BankAccount(.02,1000),\n",
    "            \"savings\" : BankAccount(.05,3000)\n",
    "        }\n",
    "        \n",
    "\n",
    "    def display_user_balance(self):\n",
    "        print(f\"User: {self.name}, Checking Balance: {self.account['checking'].display_account_info()}\")\n",
    "        print(f\"User: {self.name}, Savings Balance: {self.account['savings'].display_account_info()}\")\n",
    "        return self\n",
    "\n",
    "    def transfer_money(self,amount,user):\n",
    "        self.amount -= amount\n",
    "        user.amount += amount\n",
    "        self.display_user_balance()\n",
    "        user.display_user_balance()\n",
    "        return self\n",
    "\n",
    "\n",
    "adrien = User(\"Adrien\")\n",
    "\n",
    "adrien.account['checking'].deposit(100)\n",
    "adrien.display_user_balance()"
   ]
  },
  {
   "cell_type": "code",
   "execution_count": 92,
   "id": "bcdd62dc",
   "metadata": {},
   "outputs": [],
   "source": [
    "#Encapsulation - the idea that we can group code together into objects; hence Object Oriented Programming. We use classes or \"coding blue prints\" to define what our objects are and how they behave. We encapsulate attributes and methods in our class.\n",
    "class CoffeeM:\n",
    "    def __init__(self,name):\n",
    "        self.name = name\n",
    "        self.water_temp = 200\n",
    "    def brew_now(self,beans):\n",
    "        print(f\"Using {beans}!\")\n",
    "        print(\"Brew now brown cow!\")\n",
    "    def clean(self):\n",
    "        print(\"Cleaning!\")"
   ]
  },
  {
   "cell_type": "code",
   "execution_count": 93,
   "id": "dcf742a8",
   "metadata": {},
   "outputs": [],
   "source": [
    "#Inheritance - the idea that we pass along attributes and methods from one class into a \"sub-class\" or child class, and not have to re-write the code to make it work.  Child classes can be more specific versions of their Parent class.  Using the key word \"super\" will call methods\n",
    "class CappuccinoM( CoffeeM ):\n",
    "    def __init__(self,name):\n",
    "        super().__init__(name)\n",
    "        self.milk = \"whole\"\n",
    "    def make_cappuccino(self,beans):\n",
    "        super.brew_now(beans)\n",
    "        print(\"Frothy!!!\")"
   ]
  },
  {
   "cell_type": "code",
   "execution_count": 94,
   "id": "f477c985",
   "metadata": {},
   "outputs": [],
   "source": [
    "#Polymorphism - means \"many forms\", and the idea in OOP is that a Child class can have a different version of a method than the Parent class. In this example the child class of CappuccinoM has a clean method, and so does CoffeeM. Depending on the class, the clean method will do different things.\n",
    "class CappuccinoM( CoffeeM ):\n",
    "    def __init__(self,name):\n",
    "        super().__init__(name)\n",
    "        self.milk = \"whole\"\n",
    "    def make_cappuccino(self,beans):\n",
    "        super.brew_now(beans)\n",
    "        print(\"Frothy!!!\")\n",
    "    def clean(self):\n",
    "        print(\"Cleaning the froth!\")"
   ]
  },
  {
   "cell_type": "code",
   "execution_count": 95,
   "id": "b93966d1",
   "metadata": {},
   "outputs": [],
   "source": [
    "#Abstraction is an extension of Encapsulation, and we can hide attributes or methods that a Barista doesn't need to know about, like a CoffeeM. That way the Barista can make a cup of coffee in a simpler manner.\n",
    "class Barista:\n",
    "    def __init__(self,name):\n",
    "        self.name = name\n",
    "        self.cafe = CoffeeM(\"Cafe\")\n",
    "    def make_coffee(self):\n",
    "        self.cafe.brew_now()"
   ]
  },
  {
   "cell_type": "code",
   "execution_count": 96,
   "id": "b598734a",
   "metadata": {},
   "outputs": [
    {
     "ename": "TabError",
     "evalue": "inconsistent use of tabs and spaces in indentation (Temp/ipykernel_8268/2622304347.py, line 7)",
     "output_type": "error",
     "traceback": [
      "\u001b[1;36m  File \u001b[1;32m\"C:\\Users\\bradr\\AppData\\Local\\Temp/ipykernel_8268/2622304347.py\"\u001b[1;36m, line \u001b[1;32m7\u001b[0m\n\u001b[1;33m    self.is_roth = is_roth\u001b[0m\n\u001b[1;37m                          \t^\u001b[0m\n\u001b[1;31mTabError\u001b[0m\u001b[1;31m:\u001b[0m inconsistent use of tabs and spaces in indentation\n"
     ]
    }
   ],
   "source": [
    "#Inheritance (SUPER)\n",
    "\n",
    "#Child\n",
    "class RetirementAccount(BankAccount):\n",
    "    def __init__(self, int_rate, is_roth, balance=0):\n",
    "    \tsuper().__init__(int_rate, balance)\t\n",
    "        self.is_roth = is_roth\t\n",
    "\n",
    "#Parent        \n",
    "class BankAccount:\n",
    "    def __init__(self, int_rate, balance=0):\n",
    "        self.int_rate = int_rate\n",
    "        self.balance = balance"
   ]
  },
  {
   "cell_type": "code",
   "execution_count": null,
   "id": "1094bfd2",
   "metadata": {},
   "outputs": [],
   "source": [
    "#Inheritance (SUPER)\n",
    "\n",
    "#Child\n",
    "class RetirementAccount(BankAccount):\n",
    "    def withdraw(self, amount, is_early):\n",
    "    \tif is_early:\n",
    "    \t    amount = amount * 1.10\n",
    "    \tsuper().withdraw(amount)\n",
    "    \treturn self\n",
    "# \n",
    "#Parent        \n",
    "class BankAccount:\n",
    "    def withdraw(self, amount):\n",
    "    \tif (self.balance - amount) > 0:\n",
    "    \t    self.balance -= amount\n",
    "        else:\n",
    "    \t    print(\"INSUFFICIENT FUNDS\")\n",
    "    \treturn self"
   ]
  },
  {
   "cell_type": "markdown",
   "id": "1a1e3d70",
   "metadata": {},
   "source": [
    "## Module import"
   ]
  },
  {
   "cell_type": "code",
   "execution_count": 98,
   "id": "8d10f761",
   "metadata": {},
   "outputs": [],
   "source": [
    "#modular_example/arithmetic.py\n",
    "def add(x, y):\n",
    "    return x + y\n",
    "def multiply(x, y):\n",
    "    return x * y\n",
    "def subtract(x, y):\n",
    "    return x - y"
   ]
  },
  {
   "cell_type": "code",
   "execution_count": null,
   "id": "75762acd",
   "metadata": {},
   "outputs": [],
   "source": [
    "# #modular_example/calculations.py\n",
    "# import arithmetic\n",
    "# print(arithmetic.add(5, 8))\n",
    "# print(arithmetic.subtract(10, 5))\n",
    "# print(arithmetic.multiply(12, 6))"
   ]
  },
  {
   "cell_type": "code",
   "execution_count": 100,
   "id": "26bf60d4",
   "metadata": {},
   "outputs": [
    {
     "ename": "IndentationError",
     "evalue": "unexpected indent (Temp/ipykernel_8268/3480526574.py, line 4)",
     "output_type": "error",
     "traceback": [
      "\u001b[1;36m  File \u001b[1;32m\"C:\\Users\\bradr\\AppData\\Local\\Temp/ipykernel_8268/3480526574.py\"\u001b[1;36m, line \u001b[1;32m4\u001b[0m\n\u001b[1;33m    |_____ python_file.py\u001b[0m\n\u001b[1;37m    ^\u001b[0m\n\u001b[1;31mIndentationError\u001b[0m\u001b[1;31m:\u001b[0m unexpected indent\n"
     ]
    }
   ],
   "source": [
    "#Module Import\n",
    "\n",
    "sample_project\n",
    "     |_____ python_file.py\n",
    "     |_____ my_modules\n",
    "               |_____ __init__.py #This is for Python 2 only!!\n",
    "               |_____ test_module.py\n",
    "               |_____ another_module.py\n",
    "               |_____ third_module.py\n",
    "                \n",
    "\n",
    "import my_modules.test_module\n",
    "#or\n",
    "from my_modules import test_module\n",
    "\n",
    "\n",
    "modular_example/arithmetic.py\n",
    "\n",
    "\n",
    "\n"
   ]
  },
  {
   "cell_type": "markdown",
   "id": "38d2b495",
   "metadata": {},
   "source": [
    "## Overiding"
   ]
  },
  {
   "cell_type": "code",
   "execution_count": 101,
   "id": "c6e2b52f",
   "metadata": {},
   "outputs": [
    {
     "name": "stdout",
     "output_type": "stream",
     "text": [
      "invoking PARENT method_a!\n",
      "invoking CHILD method_a!\n"
     ]
    }
   ],
   "source": [
    "class Parent:\n",
    "    def method_a(self):\n",
    "        print(\"invoking PARENT method_a!\")\n",
    "class Child(Parent):\n",
    "    def method_a(self):\n",
    "        print(\"invoking CHILD method_a!\")\n",
    "dad = Parent()\n",
    "son = Child()\n",
    "dad.method_a()\n",
    "son.method_a() #notice this overrides the Parent method!"
   ]
  },
  {
   "cell_type": "markdown",
   "id": "5589bea2",
   "metadata": {},
   "source": [
    "## Polymorphism"
   ]
  },
  {
   "cell_type": "code",
   "execution_count": 102,
   "id": "35723eac",
   "metadata": {},
   "outputs": [],
   "source": [
    "# We'll use the Person class to demonstrate polymorphism\n",
    "# in which multiple classes inherit from the same class but behave in different ways\n",
    "class Person:\n",
    "  def pay_bill(self):\n",
    "      raise NotImplementedError\n",
    "# Millionaire inherits from Person\n",
    "class Millionaire(Person):\n",
    "  def pay_bill(self):\n",
    "      print(\"Here you go! Keep the change!\")\n",
    "# Grad Student also inherits from the Person class\n",
    "class GradStudent(Person):\n",
    "  def pay_bill(self):\n",
    "      print(\"Can I owe you ten bucks or do the dishes?\")"
   ]
  },
  {
   "cell_type": "markdown",
   "id": "00fcb06e",
   "metadata": {},
   "source": [
    "## Dojo Pets"
   ]
  },
  {
   "cell_type": "code",
   "execution_count": 103,
   "id": "63f1c8b0",
   "metadata": {},
   "outputs": [
    {
     "name": "stdout",
     "output_type": "stream",
     "text": [
      "Feeding Mr. Nibbles Burger!\n",
      "Feeding Mr. Nibbles Pizza!\n",
      "Oh no!!! you need more pet food!\n"
     ]
    }
   ],
   "source": [
    "class Pet:\n",
    "    def __init__(self, name, types, tricks, noise):\n",
    "        self.name = name\n",
    "        self.types = types\n",
    "        self.tricks = tricks\n",
    "        self.health = 100\n",
    "        self.energy = 50\n",
    "        self.noise = noise\n",
    "        \n",
    "    def sleep(self):\n",
    "        self.energy += 25\n",
    "        return self\n",
    "    \n",
    "    def eat (self):\n",
    "        self.energy += 5\n",
    "        self.health += 10\n",
    "        return self\n",
    "    \n",
    "    def play (self):\n",
    "        self.energy += 5\n",
    "        self.health += 10\n",
    "        return self\n",
    "    \n",
    "    def noise (self):\n",
    "        print(self.noise)\n",
    "        \n",
    "class Ninja:\n",
    "    # implement __init__( first_name , last_name , treats , pet_food , pet )\n",
    "    def __init__(self, first_name, last_name , treats, pet_food, pet):\n",
    "        self.first_name = first_name\n",
    "        self.last_name = last_name\n",
    "        self.treats = treats\n",
    "        self.pet_food = pet_food\n",
    "        self.pet = pet\n",
    "\n",
    "    # implement the following methods:\n",
    "    # walk() - walks the ninja's pet invoking the pet play() method\n",
    "    def walk(self):\n",
    "        self.pet.play()\n",
    "        return self\n",
    "\n",
    "    # feed() - feeds the ninja's pet invoking the pet eat() method\n",
    "    def feed(self):\n",
    "\n",
    "        if len(self.pet_food) > 0:\n",
    "            food = self.pet_food.pop()\n",
    "            print(f\"Feeding {self.pet.name} {food}!\")\n",
    "            self.pet.eat()\n",
    "        else:\n",
    "            print(\"Oh no!!! you need more pet food!\")\n",
    "        return self\n",
    "\n",
    "    # bathe() - cleans the ninja's pet invoking the pet noise() method\n",
    "    def bathe(self):\n",
    "        self.pet.noise()\n",
    "\n",
    "my_treats = ['Snausage','Bacon',\"Trash Bag\"]\n",
    "my_pet_food = ['Pizza','Burger']\n",
    "\n",
    "nibbles = Pet(\"Mr. Nibbles\",\"Horse\",['nibbles on things','is invisible'],\"Hey Hey\")\n",
    "\n",
    "adrien = Ninja(\"Adrien\",\"Dion\",my_treats,my_pet_food, nibbles)\n",
    "\n",
    "adrien.feed();\n",
    "adrien.feed();\n",
    "adrien.feed();"
   ]
  },
  {
   "cell_type": "code",
   "execution_count": 104,
   "id": "aaf2e087",
   "metadata": {},
   "outputs": [
    {
     "name": "stdout",
     "output_type": "stream",
     "text": [
      "What is your favorite color? \n",
      "Your favorite color is: \n"
     ]
    }
   ],
   "source": [
    "favorite_color = input('What is your favorite color? ') # input takes a prompt, which needs to be a string\n",
    "print(f'Your favorite color is: {favorite_color}') #output, prints the color given to the console"
   ]
  },
  {
   "cell_type": "code",
   "execution_count": null,
   "id": "5bfd1a8e",
   "metadata": {},
   "outputs": [],
   "source": [
    "# import random\n",
    "\n",
    "# answers = []\n",
    "\n",
    "# def bridge_keeper():\n",
    "    \n",
    "#     questions = [\"What is your favourite colour?\", \"What is the airspeed velocity of an unladen swallow?\",\"What is the capital of Assyria?\"]\n",
    "#     correct_answer = \"African or European?\"\n",
    "\n",
    "#     print(\"STOP!!!!\\nThose who approach the Bridge of Death must answer me these questions three, ere the other side they see.\\n\")\n",
    "#     # the built in input function can prompt with a string, and then return whatever the user has input into the console as a string.  Even if it's a number!!!\n",
    "#     name = input(\"What is your name?\\n\")\n",
    "#     quest = input(\"What is your quest?\\n\")\n",
    "#     random_question = random.randint(0,len(questions)-1)\n",
    "#     third = input(f\"{questions[random_question]}\\n\")\n",
    "\n",
    "#     # What is your favourite colour?\n",
    "#     if random_question == 0:\n",
    "#         # checks to see if the color has been guessed already.\n",
    "#         if third in answers:\n",
    "#             print(\"You have been casted into gorge!!!\\n\")\n",
    "#             return True\n",
    "#         else:\n",
    "#             answers.append(third)\n",
    "#             print(\"Right. Off you go.\\n\")\n",
    "#             return True\n",
    "#     # What is the velocity of an unladen swallow?\n",
    "#     elif random_question == 1:\n",
    "#         if third == correct_answer:\n",
    "#             print(\"Wait... I don't know.  AHHHHHHH!!!!!!\\nThe bridge keeper was casted into the gorge.\")\n",
    "#             return False\n",
    "#         else:\n",
    "#             print(\"You have been casted into gorge!!!\\n\")\n",
    "#             return True\n",
    "#     # What is the capital of Assyria?\n",
    "#     elif random_question == 2:\n",
    "#         # checks for correct answer\n",
    "#         if third == \"Ninevah\":\n",
    "#             print(\"Right. Off you go.\\n\")\n",
    "#             return True\n",
    "#         else:\n",
    "#             print(\"You have been casted into gorge!!!\\n\")\n",
    "#             return True\n",
    "\n",
    "# isGuessing = True\n",
    "\n",
    "# while isGuessing == True:\n",
    "#     isGuessing = bridge_keeper()"
   ]
  },
  {
   "cell_type": "markdown",
   "id": "2f583d85",
   "metadata": {},
   "source": [
    "## Multiple Arguments (Splat)"
   ]
  },
  {
   "cell_type": "code",
   "execution_count": null,
   "id": "5d252c1f",
   "metadata": {},
   "outputs": [],
   "source": [
    "def varargs(arg1, *args):\n",
    "    print(\"Got \", arg1, \" and \", args)\n",
    "varargs(\"one\") \t\t\t# output: Got one and ()\n",
    "varargs(\"one\", \"two\") \t        # output: Got one and ('two',)\n",
    "varargs(\"one\", \"two\", \"three\")  # output: Got one and ('two', 'three')"
   ]
  },
  {
   "cell_type": "code",
   "execution_count": null,
   "id": "4b2b21cc",
   "metadata": {},
   "outputs": [],
   "source": [
    "def varargs(arg1, *args):\n",
    "    for a in args:\n",
    "    \tprint(a)\n",
    "varargs(\"one\", \"two\", \"three\") # output: two, three (on separate lines)"
   ]
  },
  {
   "cell_type": "markdown",
   "id": "f70fc91c",
   "metadata": {},
   "source": [
    "## Single Linked List"
   ]
  },
  {
   "cell_type": "code",
   "execution_count": null,
   "id": "780d4b75",
   "metadata": {},
   "outputs": [],
   "source": [
    "class SLNode:\n",
    " def __init__(self, value):\n",
    "  self.value = value\n",
    "  self.next = None"
   ]
  },
  {
   "cell_type": "markdown",
   "id": "c14fea89",
   "metadata": {},
   "source": [
    "## Bubble Sort"
   ]
  },
  {
   "cell_type": "code",
   "execution_count": null,
   "id": "c0959fc0",
   "metadata": {
    "scrolled": true
   },
   "outputs": [],
   "source": [
    "\n",
    "# Python program for implementation of Bubble Sort\n",
    " \n",
    "def bubbleSort(arr):\n",
    "    n = len(arr)\n",
    " \n",
    "    # Traverse through all array elements\n",
    "    for i in range(n-1):\n",
    "    # range(n) also work but outer loop will\n",
    "    # repeat one time more than needed.\n",
    " \n",
    "        # Last i elements are already in place\n",
    "        for j in range(0, n-i-1):\n",
    " \n",
    "            # traverse the array from 0 to n-i-1\n",
    "            # Swap if the element found is greater\n",
    "            # than the next element\n",
    "            if arr[j] > arr[j + 1] :\n",
    "                arr[j], arr[j + 1] = arr[j + 1], arr[j]\n",
    " \n",
    "# Driver code to test above\n",
    "arr = [64, 34, 25, 12, 22, 11, 90]\n",
    " \n",
    "bubbleSort(arr)\n",
    " \n",
    "print (\"Sorted array is:\")\n",
    "for i in range(len(arr)):\n",
    "    print (\"% d\" % arr[i]),"
   ]
  },
  {
   "cell_type": "markdown",
   "id": "66819784",
   "metadata": {},
   "source": [
    "## Ternary Operator"
   ]
  },
  {
   "cell_type": "code",
   "execution_count": null,
   "id": "8e756663",
   "metadata": {},
   "outputs": [],
   "source": [
    "# traditional\n",
    "stacks = 2\n",
    "if stacks >= 3:\n",
    "    print('Coding Dojo')\n",
    "else:\n",
    "    print('You are not Coding Dojo!')\n",
    "# ternary\n",
    "print('Coding Dojo' if stacks >= 3 else 'You are not Coding Dojo!')"
   ]
  },
  {
   "cell_type": "markdown",
   "id": "74a33903",
   "metadata": {},
   "source": [
    "## Lambdas - anonymous functions (one time use)"
   ]
  },
  {
   "cell_type": "code",
   "execution_count": null,
   "id": "fcb4e526",
   "metadata": {},
   "outputs": [],
   "source": [
    "my_arr = [1,2,3,4,5]\n",
    "print(list(map(lambda x: x ** 2, my_arr))) # invoke map, pass in a lambda as the first argument"
   ]
  },
  {
   "cell_type": "markdown",
   "id": "0c5e071f",
   "metadata": {},
   "source": [
    "## Slicing\n",
    "- max(sequence) returns the largest value in the sequence\n",
    "- sum(sequence) returns the sum of all values in sequence\n",
    "- map(function, sequence) applies the function to every item in the sequence you pass in. Returns a list of the results.\n",
    "- min(sequence) returns the lowest value in a sequence.\n",
    "- sorted(sequence) returns a sorted list of the sequence's values"
   ]
  },
  {
   "cell_type": "code",
   "execution_count": null,
   "id": "d73bcdb4",
   "metadata": {},
   "outputs": [],
   "source": [
    "my_list = [99,4,2,5,-3]\n",
    "my_tuple = (99,4,2,5,-3)\n",
    "my_str = \"sequoia\"\n",
    "print(my_list[:])\n",
    "# output: [99,4,2,5,-3]\n",
    "print(my_tuple[1:])\n",
    "# output: (4,2,5,-3)\n",
    "print(my_str[:3])\n",
    "# output: \"seq\"\n",
    "print(my_tuple[2:4])\n",
    "# output: (2,5)\n",
    "print(my_list, my_tuple, my_str)\n",
    "# output: [99,4,2,5,-3] (99,4,2,5,-3) 'sequoia' -- note the original values have not changed"
   ]
  },
  {
   "cell_type": "markdown",
   "id": "3a670f32",
   "metadata": {},
   "source": [
    "## Unittest and Assertions - https://docs.python.org/3.6/library/unittest.html#unittest.TestCase"
   ]
  },
  {
   "cell_type": "code",
   "execution_count": null,
   "id": "9d40f1e5",
   "metadata": {},
   "outputs": [],
   "source": [
    "# import the python testing framework\n",
    "import unittest\n",
    "# our \"unit\"\n",
    "# this is what we are running our test on\n",
    "def isEven(n):\n",
    "    if n % 2 == 0:\n",
    "       return True\n",
    "    else:\n",
    "       return False\n",
    "# our \"unit tests\"\n",
    "# initialized by creating a class that inherits from unittest.TestCase\n",
    "class IsEvenTests(unittest.TestCase):\n",
    "    # each method in this class is a test to be run\n",
    "    def testTwo(self):\n",
    "        self.assertEqual(isEven(2), True)\n",
    "        # another way to write above is\n",
    "        self.assertTrue(isEven(2))\n",
    "    def testThree(self):\n",
    "        self.assertEqual(isEven(3), False)\n",
    "        # another way to write above is\n",
    "        self.assertFalse(isEven(3))\n",
    "    # any task you want run before any method above is executed, put them in the setUp method\n",
    "    def setUp(self):\n",
    "        # add the setUp tasks\n",
    "        print(\"running setUp\")\n",
    "    # any task you want run after the tests are executed, put them in the tearDown method\n",
    "    def tearDown(self):\n",
    "        # add the tearDown tasks\n",
    "        print(\"running tearDown tasks\")\n",
    "if __name__ == '__main__':\n",
    "    unittest.main() # this runs our tests"
   ]
  },
  {
   "cell_type": "markdown",
   "id": "5276d531",
   "metadata": {},
   "source": [
    "## Facial Recognition"
   ]
  },
  {
   "cell_type": "code",
   "execution_count": null,
   "id": "1252ecf7",
   "metadata": {},
   "outputs": [],
   "source": [
    "# import cv2\n",
    "# import numpy as np\n",
    "# import face_recognition\n",
    "\n",
    "# # This is a demo of running face recognition on live video from your webcam. It's a little more complicated than the\n",
    "# # other example, but it includes some basic performance tweaks to make things run a lot faster:\n",
    "# #   1. Process each video frame at 1/4 resolution (though still display it at full resolution)\n",
    "# #   2. Only detect faces in every other frame of video.\n",
    "\n",
    "# # PLEASE NOTE: This example requires OpenCV (the `cv2` library) to be installed only to read from your webcam.\n",
    "# # OpenCV is *not* required to use the face_recognition library. It's only required if you want to run this\n",
    "# # specific demo. If you have trouble installing it, try any of the other demos that don't require it instead.\n",
    "\n",
    "# # Get a reference to webcam #0 (the default one)\n",
    "# video_capture = cv2.VideoCapture(0)\n",
    "\n",
    "# # Load a sample picture and learn how to recognize it.\n",
    "# obama_image = face_recognition.load_image_file(\"obama.jpg\")\n",
    "# obama_face_encoding = face_recognition.face_encodings(obama_image)[0]\n",
    "\n",
    "# # Load a second sample picture and learn how to recognize it.\n",
    "# biden_image = face_recognition.load_image_file(\"biden.jpg\")\n",
    "# biden_face_encoding = face_recognition.face_encodings(biden_image)[0]\n",
    "\n",
    "# # Create arrays of known face encodings and their names\n",
    "# known_face_encodings = [\n",
    "#     obama_face_encoding,\n",
    "#     biden_face_encoding\n",
    "# ]\n",
    "# known_face_names = [\n",
    "#     \"Barack Obama\",\n",
    "#     \"Joe Biden\"\n",
    "# ]\n",
    "\n",
    "# # Initialize some variables\n",
    "# face_locations = []\n",
    "# face_encodings = []\n",
    "# face_names = []\n",
    "# process_this_frame = True\n",
    "\n",
    "# while True:\n",
    "#     # Grab a single frame of video\n",
    "#     ret, frame = video_capture.read()\n",
    "\n",
    "#     # Resize frame of video to 1/4 size for faster face recognition processing\n",
    "#     small_frame = cv2.resize(frame, (0, 0), fx=0.25, fy=0.25)\n",
    "\n",
    "#     # Convert the image from BGR color (which OpenCV uses) to RGB color (which face_recognition uses)\n",
    "#     rgb_small_frame = small_frame[:, :, ::-1]\n",
    "\n",
    "#     # Only process every other frame of video to save time\n",
    "#     if process_this_frame:\n",
    "#         # Find all the faces and face encodings in the current frame of video\n",
    "#         face_locations = face_recognition.face_locations(rgb_small_frame)\n",
    "#         face_encodings = face_recognition.face_encodings(rgb_small_frame, face_locations)\n",
    "\n",
    "#         face_names = []\n",
    "#         for face_encoding in face_encodings:\n",
    "#             # See if the face is a match for the known face(s)\n",
    "#             matches = face_recognition.compare_faces(known_face_encodings, face_encoding)\n",
    "#             name = \"Unknown\"\n",
    "\n",
    "#             # # If a match was found in known_face_encodings, just use the first one.\n",
    "#             # if True in matches:\n",
    "#             #     first_match_index = matches.index(True)\n",
    "#             #     name = known_face_names[first_match_index]\n",
    "\n",
    "#             # Or instead, use the known face with the smallest distance to the new face\n",
    "#             face_distances = face_recognition.face_distance(known_face_encodings, face_encoding)\n",
    "#             best_match_index = np.argmin(face_distances)\n",
    "#             if matches[best_match_index]:\n",
    "#                 name = known_face_names[best_match_index]\n",
    "\n",
    "#             face_names.append(name)\n",
    "\n",
    "#     process_this_frame = not process_this_frame\n",
    "\n",
    "\n",
    "#     # Display the results\n",
    "#     for (top, right, bottom, left), name in zip(face_locations, face_names):\n",
    "#         # Scale back up face locations since the frame we detected in was scaled to 1/4 size\n",
    "#         top *= 4\n",
    "#         right *= 4\n",
    "#         bottom *= 4\n",
    "#         left *= 4\n",
    "\n",
    "#         # Draw a box around the face\n",
    "#         cv2.rectangle(frame, (left, top), (right, bottom), (0, 0, 255), 2)\n",
    "\n",
    "#         # Draw a label with a name below the face\n",
    "#         cv2.rectangle(frame, (left, bottom - 35), (right, bottom), (0, 0, 255), cv2.FILLED)\n",
    "#         font = cv2.FONT_HERSHEY_DUPLEX\n",
    "#         cv2.putText(frame, name, (left + 6, bottom - 6), font, 1.0, (255, 255, 255), 1)\n",
    "\n",
    "#     # Display the resulting image\n",
    "#     cv2.imshow('Video', frame)\n",
    "\n",
    "#     # Hit 'q' on the keyboard to quit!\n",
    "#     if cv2.waitKey(1) & 0xFF == ord('q'):\n",
    "#         break\n",
    "\n",
    "# # Release handle to the webcam\n",
    "# video_capture.release()\n",
    "# cv2.destroyAllWindows()"
   ]
  },
  {
   "cell_type": "markdown",
   "id": "9b431b8b",
   "metadata": {},
   "source": [
    "## Flask"
   ]
  },
  {
   "cell_type": "code",
   "execution_count": 2,
   "id": "bc35a2c0",
   "metadata": {},
   "outputs": [
    {
     "name": "stdout",
     "output_type": "stream",
     "text": [
      "Hello!\n",
      "Hello!\n",
      "Hello!\n",
      "Hello!\n",
      "Hello!\n",
      "Hello!\n",
      "Hello!\n",
      "Hello!\n",
      "Hello!\n",
      "Hello!\n",
      "Hello!\n",
      "Hello!\n",
      "Hello!\n",
      "Hello!\n",
      "Hello!\n",
      "Hello!\n",
      "Hello!\n",
      "Hello!\n",
      "Hello!\n",
      "Hello!\n",
      "Hello!\n",
      "Hello!\n",
      "Hello!\n",
      "Hello!\n",
      "Hello!\n",
      "Hello!\n",
      "Hello!\n",
      "Hello!\n",
      "Hello!\n",
      "Hello!\n",
      "Hello!\n",
      "Hello!\n",
      "Hello!\n",
      "Hello!\n",
      "Hello!\n"
     ]
    }
   ],
   "source": [
    "dogs = \"Dogs!\"\n",
    "for line in range(99):\n",
    "  print(dogs)"
   ]
  },
  {
   "cell_type": "code",
   "execution_count": null,
   "id": "07e14c92",
   "metadata": {},
   "outputs": [],
   "source": []
  },
  {
   "cell_type": "code",
   "execution_count": null,
   "id": "5be6e35f",
   "metadata": {},
   "outputs": [],
   "source": []
  }
 ],
 "metadata": {
  "kernelspec": {
   "display_name": "Python 3 (ipykernel)",
   "language": "python",
   "name": "python3"
  },
  "language_info": {
   "codemirror_mode": {
    "name": "ipython",
    "version": 3
   },
   "file_extension": ".py",
   "mimetype": "text/x-python",
   "name": "python",
   "nbconvert_exporter": "python",
   "pygments_lexer": "ipython3",
   "version": "3.8.8"
  },
  "vscode": {
   "interpreter": {
    "hash": "369f2c481f4da34e4445cda3fffd2e751bd1c4d706f27375911949ba6bb62e1c"
   }
  }
 },
 "nbformat": 4,
 "nbformat_minor": 5
}
